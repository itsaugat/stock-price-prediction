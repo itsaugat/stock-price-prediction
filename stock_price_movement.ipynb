{
 "cells": [
  {
   "cell_type": "code",
   "execution_count": 79,
   "metadata": {},
   "outputs": [],
   "source": [
    "import pandas as pd\n",
    "import numpy as np\n",
    "import tensorflow as tf\n",
    "import re\n",
    "from nltk.corpus import stopwords\n",
    "from sklearn.model_selection import train_test_split\n",
    "from sklearn.metrics import median_absolute_error as mae\n",
    "from sklearn.metrics import mean_squared_error as mse\n",
    "from sklearn.metrics import accuracy_score as acc\n",
    "import matplotlib.pyplot as plt\n",
    "\n",
    "from keras.models import Sequential\n",
    "from keras import initializers\n",
    "from keras.layers import Embedding, Dense, Input, Activation, multiply, Lambda, Convolution1D, Conv2D, MaxPooling1D, MaxPooling2D, GRU, Bidirectional,TimeDistributed, Flatten, concatenate, Dropout, Reshape, concatenate, Add\n",
    "from keras.layers.recurrent import LSTM\n",
    "from keras.callbacks import Callback, ModelCheckpoint, EarlyStopping, ReduceLROnPlateau\n",
    "from keras.models import Model\n",
    "from keras.optimizers import Adam, SGD, RMSprop\n",
    "from keras import regularizers\n",
    "from keras.utils import plot_model"
   ]
  },
  {
   "cell_type": "code",
   "execution_count": 2,
   "metadata": {},
   "outputs": [],
   "source": [
    "news = pd.read_csv('newsv1.csv')"
   ]
  },
  {
   "cell_type": "code",
   "execution_count": 3,
   "metadata": {
    "scrolled": true
   },
   "outputs": [
    {
     "data": {
      "text/html": [
       "<div>\n",
       "<style scoped>\n",
       "    .dataframe tbody tr th:only-of-type {\n",
       "        vertical-align: middle;\n",
       "    }\n",
       "\n",
       "    .dataframe tbody tr th {\n",
       "        vertical-align: top;\n",
       "    }\n",
       "\n",
       "    .dataframe thead th {\n",
       "        text-align: right;\n",
       "    }\n",
       "</style>\n",
       "<table border=\"1\" class=\"dataframe\">\n",
       "  <thead>\n",
       "    <tr style=\"text-align: right;\">\n",
       "      <th></th>\n",
       "      <th>Date</th>\n",
       "      <th>Title</th>\n",
       "    </tr>\n",
       "  </thead>\n",
       "  <tbody>\n",
       "    <tr>\n",
       "      <th>0</th>\n",
       "      <td>2006-10-20</td>\n",
       "      <td>Hey buddy, can you spare $600 for a Google share?</td>\n",
       "    </tr>\n",
       "    <tr>\n",
       "      <th>1</th>\n",
       "      <td>2006-10-20</td>\n",
       "      <td>Exxon Mobil offers plan to end Alaska dispute.</td>\n",
       "    </tr>\n",
       "    <tr>\n",
       "      <th>2</th>\n",
       "      <td>2006-10-21</td>\n",
       "      <td>AOL CEO says sales may shrink for two years -p...</td>\n",
       "    </tr>\n",
       "    <tr>\n",
       "      <th>3</th>\n",
       "      <td>2006-10-22</td>\n",
       "      <td>EU to urge China to open economy further.</td>\n",
       "    </tr>\n",
       "    <tr>\n",
       "      <th>4</th>\n",
       "      <td>2006-10-22</td>\n",
       "      <td>Fed to keep hawkish tone, hold rates steady.</td>\n",
       "    </tr>\n",
       "  </tbody>\n",
       "</table>\n",
       "</div>"
      ],
      "text/plain": [
       "         Date                                              Title\n",
       "0  2006-10-20  Hey buddy, can you spare $600 for a Google share?\n",
       "1  2006-10-20     Exxon Mobil offers plan to end Alaska dispute.\n",
       "2  2006-10-21  AOL CEO says sales may shrink for two years -p...\n",
       "3  2006-10-22          EU to urge China to open economy further.\n",
       "4  2006-10-22       Fed to keep hawkish tone, hold rates steady."
      ]
     },
     "execution_count": 3,
     "metadata": {},
     "output_type": "execute_result"
    }
   ],
   "source": [
    "news.head()"
   ]
  },
  {
   "cell_type": "code",
   "execution_count": 4,
   "metadata": {
    "scrolled": true
   },
   "outputs": [],
   "source": [
    "news = news.sort_values([\"Date\"],ascending=True, inplace=False).reset_index(drop=True)"
   ]
  },
  {
   "cell_type": "code",
   "execution_count": 5,
   "metadata": {},
   "outputs": [
    {
     "data": {
      "text/html": [
       "<div>\n",
       "<style scoped>\n",
       "    .dataframe tbody tr th:only-of-type {\n",
       "        vertical-align: middle;\n",
       "    }\n",
       "\n",
       "    .dataframe tbody tr th {\n",
       "        vertical-align: top;\n",
       "    }\n",
       "\n",
       "    .dataframe thead th {\n",
       "        text-align: right;\n",
       "    }\n",
       "</style>\n",
       "<table border=\"1\" class=\"dataframe\">\n",
       "  <thead>\n",
       "    <tr style=\"text-align: right;\">\n",
       "      <th></th>\n",
       "      <th>Date</th>\n",
       "      <th>Title</th>\n",
       "    </tr>\n",
       "  </thead>\n",
       "  <tbody>\n",
       "    <tr>\n",
       "      <th>0</th>\n",
       "      <td>2006-10-20</td>\n",
       "      <td>Hey buddy, can you spare $600 for a Google share?</td>\n",
       "    </tr>\n",
       "    <tr>\n",
       "      <th>1</th>\n",
       "      <td>2006-10-20</td>\n",
       "      <td>Inco's Net Soars on Higher Metal Prices, Break...</td>\n",
       "    </tr>\n",
       "    <tr>\n",
       "      <th>2</th>\n",
       "      <td>2006-10-20</td>\n",
       "      <td>Exxon Mobil offers plan to end Alaska dispute.</td>\n",
       "    </tr>\n",
       "    <tr>\n",
       "      <th>3</th>\n",
       "      <td>2006-10-21</td>\n",
       "      <td>AOL CEO says sales may shrink for two years -p...</td>\n",
       "    </tr>\n",
       "    <tr>\n",
       "      <th>4</th>\n",
       "      <td>2006-10-21</td>\n",
       "      <td>Jim Cramer: Diageo, Anheuser-Busch, Monster Wo...</td>\n",
       "    </tr>\n",
       "  </tbody>\n",
       "</table>\n",
       "</div>"
      ],
      "text/plain": [
       "         Date                                              Title\n",
       "0  2006-10-20  Hey buddy, can you spare $600 for a Google share?\n",
       "1  2006-10-20  Inco's Net Soars on Higher Metal Prices, Break...\n",
       "2  2006-10-20     Exxon Mobil offers plan to end Alaska dispute.\n",
       "3  2006-10-21  AOL CEO says sales may shrink for two years -p...\n",
       "4  2006-10-21  Jim Cramer: Diageo, Anheuser-Busch, Monster Wo..."
      ]
     },
     "execution_count": 5,
     "metadata": {},
     "output_type": "execute_result"
    }
   ],
   "source": [
    "news.head()"
   ]
  },
  {
   "cell_type": "code",
   "execution_count": 6,
   "metadata": {},
   "outputs": [
    {
     "data": {
      "text/html": [
       "<div>\n",
       "<style scoped>\n",
       "    .dataframe tbody tr th:only-of-type {\n",
       "        vertical-align: middle;\n",
       "    }\n",
       "\n",
       "    .dataframe tbody tr th {\n",
       "        vertical-align: top;\n",
       "    }\n",
       "\n",
       "    .dataframe thead th {\n",
       "        text-align: right;\n",
       "    }\n",
       "</style>\n",
       "<table border=\"1\" class=\"dataframe\">\n",
       "  <thead>\n",
       "    <tr style=\"text-align: right;\">\n",
       "      <th></th>\n",
       "      <th>Date</th>\n",
       "      <th>Title</th>\n",
       "    </tr>\n",
       "  </thead>\n",
       "  <tbody>\n",
       "    <tr>\n",
       "      <th>554257</th>\n",
       "      <td>2013-11-26</td>\n",
       "      <td>Roederer Cristal ’04 Champagne Maintains Recor...</td>\n",
       "    </tr>\n",
       "    <tr>\n",
       "      <th>554258</th>\n",
       "      <td>2013-11-26</td>\n",
       "      <td>Hong Kong Short Selling Turnover Recorded 11/2...</td>\n",
       "    </tr>\n",
       "    <tr>\n",
       "      <th>554259</th>\n",
       "      <td>2013-11-26</td>\n",
       "      <td>Copper Falls From Two-Week High on Outlook for...</td>\n",
       "    </tr>\n",
       "    <tr>\n",
       "      <th>554260</th>\n",
       "      <td>2013-11-26</td>\n",
       "      <td>Toshiba to Supply Energy Storage System for To...</td>\n",
       "    </tr>\n",
       "    <tr>\n",
       "      <th>554261</th>\n",
       "      <td>2013-11-26</td>\n",
       "      <td>Rebar Rises in Shanghai on More Signs Output W...</td>\n",
       "    </tr>\n",
       "  </tbody>\n",
       "</table>\n",
       "</div>"
      ],
      "text/plain": [
       "              Date                                              Title\n",
       "554257  2013-11-26  Roederer Cristal ’04 Champagne Maintains Recor...\n",
       "554258  2013-11-26  Hong Kong Short Selling Turnover Recorded 11/2...\n",
       "554259  2013-11-26  Copper Falls From Two-Week High on Outlook for...\n",
       "554260  2013-11-26  Toshiba to Supply Energy Storage System for To...\n",
       "554261  2013-11-26  Rebar Rises in Shanghai on More Signs Output W..."
      ]
     },
     "execution_count": 6,
     "metadata": {},
     "output_type": "execute_result"
    }
   ],
   "source": [
    "news.tail()"
   ]
  },
  {
   "cell_type": "code",
   "execution_count": 7,
   "metadata": {},
   "outputs": [
    {
     "data": {
      "text/plain": [
       "(554262, 2)"
      ]
     },
     "execution_count": 7,
     "metadata": {},
     "output_type": "execute_result"
    }
   ],
   "source": [
    "news.shape"
   ]
  },
  {
   "cell_type": "code",
   "execution_count": 8,
   "metadata": {},
   "outputs": [],
   "source": [
    "sp = pd.read_csv('^GSPC.csv')"
   ]
  },
  {
   "cell_type": "code",
   "execution_count": 9,
   "metadata": {},
   "outputs": [
    {
     "data": {
      "text/html": [
       "<div>\n",
       "<style scoped>\n",
       "    .dataframe tbody tr th:only-of-type {\n",
       "        vertical-align: middle;\n",
       "    }\n",
       "\n",
       "    .dataframe tbody tr th {\n",
       "        vertical-align: top;\n",
       "    }\n",
       "\n",
       "    .dataframe thead th {\n",
       "        text-align: right;\n",
       "    }\n",
       "</style>\n",
       "<table border=\"1\" class=\"dataframe\">\n",
       "  <thead>\n",
       "    <tr style=\"text-align: right;\">\n",
       "      <th></th>\n",
       "      <th>Date</th>\n",
       "      <th>Open</th>\n",
       "      <th>High</th>\n",
       "      <th>Low</th>\n",
       "      <th>Close</th>\n",
       "      <th>Adj Close</th>\n",
       "      <th>Volume</th>\n",
       "    </tr>\n",
       "  </thead>\n",
       "  <tbody>\n",
       "    <tr>\n",
       "      <th>0</th>\n",
       "      <td>2006-10-20</td>\n",
       "      <td>1366.939941</td>\n",
       "      <td>1368.660034</td>\n",
       "      <td>1362.099976</td>\n",
       "      <td>1368.599976</td>\n",
       "      <td>1368.599976</td>\n",
       "      <td>2526410000</td>\n",
       "    </tr>\n",
       "    <tr>\n",
       "      <th>1</th>\n",
       "      <td>2006-10-23</td>\n",
       "      <td>1368.579956</td>\n",
       "      <td>1377.400024</td>\n",
       "      <td>1363.939941</td>\n",
       "      <td>1377.020020</td>\n",
       "      <td>1377.020020</td>\n",
       "      <td>2480430000</td>\n",
       "    </tr>\n",
       "    <tr>\n",
       "      <th>2</th>\n",
       "      <td>2006-10-24</td>\n",
       "      <td>1377.020020</td>\n",
       "      <td>1377.780029</td>\n",
       "      <td>1372.420044</td>\n",
       "      <td>1377.380005</td>\n",
       "      <td>1377.380005</td>\n",
       "      <td>2876890000</td>\n",
       "    </tr>\n",
       "    <tr>\n",
       "      <th>3</th>\n",
       "      <td>2006-10-25</td>\n",
       "      <td>1377.359985</td>\n",
       "      <td>1383.609985</td>\n",
       "      <td>1376.000000</td>\n",
       "      <td>1382.219971</td>\n",
       "      <td>1382.219971</td>\n",
       "      <td>2953540000</td>\n",
       "    </tr>\n",
       "    <tr>\n",
       "      <th>4</th>\n",
       "      <td>2006-10-26</td>\n",
       "      <td>1382.209961</td>\n",
       "      <td>1389.449951</td>\n",
       "      <td>1379.469971</td>\n",
       "      <td>1389.079956</td>\n",
       "      <td>1389.079956</td>\n",
       "      <td>2793350000</td>\n",
       "    </tr>\n",
       "  </tbody>\n",
       "</table>\n",
       "</div>"
      ],
      "text/plain": [
       "         Date         Open         High          Low        Close  \\\n",
       "0  2006-10-20  1366.939941  1368.660034  1362.099976  1368.599976   \n",
       "1  2006-10-23  1368.579956  1377.400024  1363.939941  1377.020020   \n",
       "2  2006-10-24  1377.020020  1377.780029  1372.420044  1377.380005   \n",
       "3  2006-10-25  1377.359985  1383.609985  1376.000000  1382.219971   \n",
       "4  2006-10-26  1382.209961  1389.449951  1379.469971  1389.079956   \n",
       "\n",
       "     Adj Close      Volume  \n",
       "0  1368.599976  2526410000  \n",
       "1  1377.020020  2480430000  \n",
       "2  1377.380005  2876890000  \n",
       "3  1382.219971  2953540000  \n",
       "4  1389.079956  2793350000  "
      ]
     },
     "execution_count": 9,
     "metadata": {},
     "output_type": "execute_result"
    }
   ],
   "source": [
    "sp.head()"
   ]
  },
  {
   "cell_type": "code",
   "execution_count": 10,
   "metadata": {},
   "outputs": [
    {
     "data": {
      "text/html": [
       "<div>\n",
       "<style scoped>\n",
       "    .dataframe tbody tr th:only-of-type {\n",
       "        vertical-align: middle;\n",
       "    }\n",
       "\n",
       "    .dataframe tbody tr th {\n",
       "        vertical-align: top;\n",
       "    }\n",
       "\n",
       "    .dataframe thead th {\n",
       "        text-align: right;\n",
       "    }\n",
       "</style>\n",
       "<table border=\"1\" class=\"dataframe\">\n",
       "  <thead>\n",
       "    <tr style=\"text-align: right;\">\n",
       "      <th></th>\n",
       "      <th>Date</th>\n",
       "      <th>Open</th>\n",
       "      <th>High</th>\n",
       "      <th>Low</th>\n",
       "      <th>Close</th>\n",
       "      <th>Adj Close</th>\n",
       "      <th>Volume</th>\n",
       "    </tr>\n",
       "  </thead>\n",
       "  <tbody>\n",
       "    <tr>\n",
       "      <th>1783</th>\n",
       "      <td>2013-11-20</td>\n",
       "      <td>1789.589966</td>\n",
       "      <td>1795.729980</td>\n",
       "      <td>1777.229980</td>\n",
       "      <td>1781.369995</td>\n",
       "      <td>1781.369995</td>\n",
       "      <td>3109140000</td>\n",
       "    </tr>\n",
       "    <tr>\n",
       "      <th>1784</th>\n",
       "      <td>2013-11-21</td>\n",
       "      <td>1783.520020</td>\n",
       "      <td>1797.160034</td>\n",
       "      <td>1783.520020</td>\n",
       "      <td>1795.849976</td>\n",
       "      <td>1795.849976</td>\n",
       "      <td>3256630000</td>\n",
       "    </tr>\n",
       "    <tr>\n",
       "      <th>1785</th>\n",
       "      <td>2013-11-22</td>\n",
       "      <td>1797.209961</td>\n",
       "      <td>1804.839966</td>\n",
       "      <td>1794.699951</td>\n",
       "      <td>1804.760010</td>\n",
       "      <td>1804.760010</td>\n",
       "      <td>3055140000</td>\n",
       "    </tr>\n",
       "    <tr>\n",
       "      <th>1786</th>\n",
       "      <td>2013-11-25</td>\n",
       "      <td>1806.329956</td>\n",
       "      <td>1808.099976</td>\n",
       "      <td>1800.579956</td>\n",
       "      <td>1802.479980</td>\n",
       "      <td>1802.479980</td>\n",
       "      <td>2998540000</td>\n",
       "    </tr>\n",
       "    <tr>\n",
       "      <th>1787</th>\n",
       "      <td>2013-11-26</td>\n",
       "      <td>1802.869995</td>\n",
       "      <td>1808.420044</td>\n",
       "      <td>1800.770020</td>\n",
       "      <td>1802.750000</td>\n",
       "      <td>1802.750000</td>\n",
       "      <td>3427120000</td>\n",
       "    </tr>\n",
       "  </tbody>\n",
       "</table>\n",
       "</div>"
      ],
      "text/plain": [
       "            Date         Open         High          Low        Close  \\\n",
       "1783  2013-11-20  1789.589966  1795.729980  1777.229980  1781.369995   \n",
       "1784  2013-11-21  1783.520020  1797.160034  1783.520020  1795.849976   \n",
       "1785  2013-11-22  1797.209961  1804.839966  1794.699951  1804.760010   \n",
       "1786  2013-11-25  1806.329956  1808.099976  1800.579956  1802.479980   \n",
       "1787  2013-11-26  1802.869995  1808.420044  1800.770020  1802.750000   \n",
       "\n",
       "        Adj Close      Volume  \n",
       "1783  1781.369995  3109140000  \n",
       "1784  1795.849976  3256630000  \n",
       "1785  1804.760010  3055140000  \n",
       "1786  1802.479980  2998540000  \n",
       "1787  1802.750000  3427120000  "
      ]
     },
     "execution_count": 10,
     "metadata": {},
     "output_type": "execute_result"
    }
   ],
   "source": [
    "sp.tail()"
   ]
  },
  {
   "cell_type": "code",
   "execution_count": 11,
   "metadata": {},
   "outputs": [
    {
     "data": {
      "text/plain": [
       "Date         0\n",
       "Open         0\n",
       "High         0\n",
       "Low          0\n",
       "Close        0\n",
       "Adj Close    0\n",
       "Volume       0\n",
       "dtype: int64"
      ]
     },
     "execution_count": 11,
     "metadata": {},
     "output_type": "execute_result"
    }
   ],
   "source": [
    "sp.isnull().sum()"
   ]
  },
  {
   "cell_type": "code",
   "execution_count": 12,
   "metadata": {},
   "outputs": [
    {
     "data": {
      "text/plain": [
       "Date     0\n",
       "Title    0\n",
       "dtype: int64"
      ]
     },
     "execution_count": 12,
     "metadata": {},
     "output_type": "execute_result"
    }
   ],
   "source": [
    "news.isnull().sum()"
   ]
  },
  {
   "cell_type": "code",
   "execution_count": 13,
   "metadata": {},
   "outputs": [
    {
     "name": "stdout",
     "output_type": "stream",
     "text": [
      "1788\n",
      "2595\n"
     ]
    }
   ],
   "source": [
    "# Compare the number of unique dates. We want matching values.\n",
    "print(len(set(sp.Date)))\n",
    "print(len(set(news.Date)))"
   ]
  },
  {
   "cell_type": "code",
   "execution_count": 14,
   "metadata": {},
   "outputs": [],
   "source": [
    "# Remove the extra dates that are in news\n",
    "news = news[news.Date.isin(sp.Date)]"
   ]
  },
  {
   "cell_type": "code",
   "execution_count": 15,
   "metadata": {},
   "outputs": [
    {
     "name": "stdout",
     "output_type": "stream",
     "text": [
      "1788\n",
      "1788\n"
     ]
    }
   ],
   "source": [
    "print(len(set(sp.Date)))\n",
    "print(len(set(news.Date)))"
   ]
  },
  {
   "cell_type": "code",
   "execution_count": 16,
   "metadata": {},
   "outputs": [],
   "source": [
    "# Calculate the rise in percent of opening stock values : Rise_Percent(t) = Open_Price(t + 1) − Open_Price(t) / Open_Price(t)\n",
    "# The model will try to predict the class of rise percent\n",
    "# For now we only work with two classes, UP (1) and DOWN (0)\n",
    "#sp = sp.set_index('Date').diff(periods=1)\n",
    "#sp = sp.set_index('Date')\n",
    "sp['Rise'] = sp.Open.pct_change(axis=0)\n",
    "#sp['Date'] = sp.index\n",
    "#sp = sp.reset_index(drop=True)\n",
    "# Remove unneeded features\n",
    "sp = sp.drop(['High','Low','Close','Volume','Adj Close'], 1)"
   ]
  },
  {
   "cell_type": "code",
   "execution_count": 17,
   "metadata": {},
   "outputs": [
    {
     "data": {
      "text/html": [
       "<div>\n",
       "<style scoped>\n",
       "    .dataframe tbody tr th:only-of-type {\n",
       "        vertical-align: middle;\n",
       "    }\n",
       "\n",
       "    .dataframe tbody tr th {\n",
       "        vertical-align: top;\n",
       "    }\n",
       "\n",
       "    .dataframe thead th {\n",
       "        text-align: right;\n",
       "    }\n",
       "</style>\n",
       "<table border=\"1\" class=\"dataframe\">\n",
       "  <thead>\n",
       "    <tr style=\"text-align: right;\">\n",
       "      <th></th>\n",
       "      <th>Date</th>\n",
       "      <th>Open</th>\n",
       "      <th>Rise</th>\n",
       "    </tr>\n",
       "  </thead>\n",
       "  <tbody>\n",
       "    <tr>\n",
       "      <th>0</th>\n",
       "      <td>2006-10-20</td>\n",
       "      <td>1366.939941</td>\n",
       "      <td>NaN</td>\n",
       "    </tr>\n",
       "    <tr>\n",
       "      <th>1</th>\n",
       "      <td>2006-10-23</td>\n",
       "      <td>1368.579956</td>\n",
       "      <td>0.001200</td>\n",
       "    </tr>\n",
       "    <tr>\n",
       "      <th>2</th>\n",
       "      <td>2006-10-24</td>\n",
       "      <td>1377.020020</td>\n",
       "      <td>0.006167</td>\n",
       "    </tr>\n",
       "    <tr>\n",
       "      <th>3</th>\n",
       "      <td>2006-10-25</td>\n",
       "      <td>1377.359985</td>\n",
       "      <td>0.000247</td>\n",
       "    </tr>\n",
       "    <tr>\n",
       "      <th>4</th>\n",
       "      <td>2006-10-26</td>\n",
       "      <td>1382.209961</td>\n",
       "      <td>0.003521</td>\n",
       "    </tr>\n",
       "  </tbody>\n",
       "</table>\n",
       "</div>"
      ],
      "text/plain": [
       "         Date         Open      Rise\n",
       "0  2006-10-20  1366.939941       NaN\n",
       "1  2006-10-23  1368.579956  0.001200\n",
       "2  2006-10-24  1377.020020  0.006167\n",
       "3  2006-10-25  1377.359985  0.000247\n",
       "4  2006-10-26  1382.209961  0.003521"
      ]
     },
     "execution_count": 17,
     "metadata": {},
     "output_type": "execute_result"
    }
   ],
   "source": [
    "sp.head()"
   ]
  },
  {
   "cell_type": "code",
   "execution_count": 18,
   "metadata": {},
   "outputs": [
    {
     "data": {
      "text/html": [
       "<div>\n",
       "<style scoped>\n",
       "    .dataframe tbody tr th:only-of-type {\n",
       "        vertical-align: middle;\n",
       "    }\n",
       "\n",
       "    .dataframe tbody tr th {\n",
       "        vertical-align: top;\n",
       "    }\n",
       "\n",
       "    .dataframe thead th {\n",
       "        text-align: right;\n",
       "    }\n",
       "</style>\n",
       "<table border=\"1\" class=\"dataframe\">\n",
       "  <thead>\n",
       "    <tr style=\"text-align: right;\">\n",
       "      <th></th>\n",
       "      <th>Date</th>\n",
       "      <th>Open</th>\n",
       "      <th>Rise</th>\n",
       "    </tr>\n",
       "  </thead>\n",
       "  <tbody>\n",
       "    <tr>\n",
       "      <th>1783</th>\n",
       "      <td>2013-11-20</td>\n",
       "      <td>1789.589966</td>\n",
       "      <td>-0.000670</td>\n",
       "    </tr>\n",
       "    <tr>\n",
       "      <th>1784</th>\n",
       "      <td>2013-11-21</td>\n",
       "      <td>1783.520020</td>\n",
       "      <td>-0.003392</td>\n",
       "    </tr>\n",
       "    <tr>\n",
       "      <th>1785</th>\n",
       "      <td>2013-11-22</td>\n",
       "      <td>1797.209961</td>\n",
       "      <td>0.007676</td>\n",
       "    </tr>\n",
       "    <tr>\n",
       "      <th>1786</th>\n",
       "      <td>2013-11-25</td>\n",
       "      <td>1806.329956</td>\n",
       "      <td>0.005075</td>\n",
       "    </tr>\n",
       "    <tr>\n",
       "      <th>1787</th>\n",
       "      <td>2013-11-26</td>\n",
       "      <td>1802.869995</td>\n",
       "      <td>-0.001915</td>\n",
       "    </tr>\n",
       "  </tbody>\n",
       "</table>\n",
       "</div>"
      ],
      "text/plain": [
       "            Date         Open      Rise\n",
       "1783  2013-11-20  1789.589966 -0.000670\n",
       "1784  2013-11-21  1783.520020 -0.003392\n",
       "1785  2013-11-22  1797.209961  0.007676\n",
       "1786  2013-11-25  1806.329956  0.005075\n",
       "1787  2013-11-26  1802.869995 -0.001915"
      ]
     },
     "execution_count": 18,
     "metadata": {},
     "output_type": "execute_result"
    }
   ],
   "source": [
    "sp.tail()"
   ]
  },
  {
   "cell_type": "code",
   "execution_count": 19,
   "metadata": {},
   "outputs": [
    {
     "data": {
      "text/plain": [
       "Date    0\n",
       "Open    0\n",
       "Rise    1\n",
       "dtype: int64"
      ]
     },
     "execution_count": 19,
     "metadata": {},
     "output_type": "execute_result"
    }
   ],
   "source": [
    "sp.isnull().sum()"
   ]
  },
  {
   "cell_type": "code",
   "execution_count": 20,
   "metadata": {},
   "outputs": [],
   "source": [
    "# Shift Open column up by one\n",
    "sp['Rise'] = sp['Rise'].shift(-1)\n",
    "#sp['Open'] = sp['Open'].shift(-1)"
   ]
  },
  {
   "cell_type": "code",
   "execution_count": 21,
   "metadata": {},
   "outputs": [
    {
     "data": {
      "text/html": [
       "<div>\n",
       "<style scoped>\n",
       "    .dataframe tbody tr th:only-of-type {\n",
       "        vertical-align: middle;\n",
       "    }\n",
       "\n",
       "    .dataframe tbody tr th {\n",
       "        vertical-align: top;\n",
       "    }\n",
       "\n",
       "    .dataframe thead th {\n",
       "        text-align: right;\n",
       "    }\n",
       "</style>\n",
       "<table border=\"1\" class=\"dataframe\">\n",
       "  <thead>\n",
       "    <tr style=\"text-align: right;\">\n",
       "      <th></th>\n",
       "      <th>Date</th>\n",
       "      <th>Open</th>\n",
       "      <th>Rise</th>\n",
       "    </tr>\n",
       "  </thead>\n",
       "  <tbody>\n",
       "    <tr>\n",
       "      <th>0</th>\n",
       "      <td>2006-10-20</td>\n",
       "      <td>1366.939941</td>\n",
       "      <td>0.001200</td>\n",
       "    </tr>\n",
       "    <tr>\n",
       "      <th>1</th>\n",
       "      <td>2006-10-23</td>\n",
       "      <td>1368.579956</td>\n",
       "      <td>0.006167</td>\n",
       "    </tr>\n",
       "    <tr>\n",
       "      <th>2</th>\n",
       "      <td>2006-10-24</td>\n",
       "      <td>1377.020020</td>\n",
       "      <td>0.000247</td>\n",
       "    </tr>\n",
       "    <tr>\n",
       "      <th>3</th>\n",
       "      <td>2006-10-25</td>\n",
       "      <td>1377.359985</td>\n",
       "      <td>0.003521</td>\n",
       "    </tr>\n",
       "    <tr>\n",
       "      <th>4</th>\n",
       "      <td>2006-10-26</td>\n",
       "      <td>1382.209961</td>\n",
       "      <td>0.004833</td>\n",
       "    </tr>\n",
       "  </tbody>\n",
       "</table>\n",
       "</div>"
      ],
      "text/plain": [
       "         Date         Open      Rise\n",
       "0  2006-10-20  1366.939941  0.001200\n",
       "1  2006-10-23  1368.579956  0.006167\n",
       "2  2006-10-24  1377.020020  0.000247\n",
       "3  2006-10-25  1377.359985  0.003521\n",
       "4  2006-10-26  1382.209961  0.004833"
      ]
     },
     "execution_count": 21,
     "metadata": {},
     "output_type": "execute_result"
    }
   ],
   "source": [
    "sp.head()"
   ]
  },
  {
   "cell_type": "code",
   "execution_count": 22,
   "metadata": {},
   "outputs": [
    {
     "data": {
      "text/html": [
       "<div>\n",
       "<style scoped>\n",
       "    .dataframe tbody tr th:only-of-type {\n",
       "        vertical-align: middle;\n",
       "    }\n",
       "\n",
       "    .dataframe tbody tr th {\n",
       "        vertical-align: top;\n",
       "    }\n",
       "\n",
       "    .dataframe thead th {\n",
       "        text-align: right;\n",
       "    }\n",
       "</style>\n",
       "<table border=\"1\" class=\"dataframe\">\n",
       "  <thead>\n",
       "    <tr style=\"text-align: right;\">\n",
       "      <th></th>\n",
       "      <th>Date</th>\n",
       "      <th>Open</th>\n",
       "      <th>Rise</th>\n",
       "    </tr>\n",
       "  </thead>\n",
       "  <tbody>\n",
       "    <tr>\n",
       "      <th>1783</th>\n",
       "      <td>2013-11-20</td>\n",
       "      <td>1789.589966</td>\n",
       "      <td>-0.003392</td>\n",
       "    </tr>\n",
       "    <tr>\n",
       "      <th>1784</th>\n",
       "      <td>2013-11-21</td>\n",
       "      <td>1783.520020</td>\n",
       "      <td>0.007676</td>\n",
       "    </tr>\n",
       "    <tr>\n",
       "      <th>1785</th>\n",
       "      <td>2013-11-22</td>\n",
       "      <td>1797.209961</td>\n",
       "      <td>0.005075</td>\n",
       "    </tr>\n",
       "    <tr>\n",
       "      <th>1786</th>\n",
       "      <td>2013-11-25</td>\n",
       "      <td>1806.329956</td>\n",
       "      <td>-0.001915</td>\n",
       "    </tr>\n",
       "    <tr>\n",
       "      <th>1787</th>\n",
       "      <td>2013-11-26</td>\n",
       "      <td>1802.869995</td>\n",
       "      <td>NaN</td>\n",
       "    </tr>\n",
       "  </tbody>\n",
       "</table>\n",
       "</div>"
      ],
      "text/plain": [
       "            Date         Open      Rise\n",
       "1783  2013-11-20  1789.589966 -0.003392\n",
       "1784  2013-11-21  1783.520020  0.007676\n",
       "1785  2013-11-22  1797.209961  0.005075\n",
       "1786  2013-11-25  1806.329956 -0.001915\n",
       "1787  2013-11-26  1802.869995       NaN"
      ]
     },
     "execution_count": 22,
     "metadata": {},
     "output_type": "execute_result"
    }
   ],
   "source": [
    "sp.tail()"
   ]
  },
  {
   "cell_type": "code",
   "execution_count": 23,
   "metadata": {},
   "outputs": [],
   "source": [
    "# Remove row since it has a null value.\n",
    "sp = sp[sp.Rise.notnull()]\n",
    "#sp = sp[sp.Open.notnull()]"
   ]
  },
  {
   "cell_type": "code",
   "execution_count": 24,
   "metadata": {
    "scrolled": true
   },
   "outputs": [
    {
     "data": {
      "text/html": [
       "<div>\n",
       "<style scoped>\n",
       "    .dataframe tbody tr th:only-of-type {\n",
       "        vertical-align: middle;\n",
       "    }\n",
       "\n",
       "    .dataframe tbody tr th {\n",
       "        vertical-align: top;\n",
       "    }\n",
       "\n",
       "    .dataframe thead th {\n",
       "        text-align: right;\n",
       "    }\n",
       "</style>\n",
       "<table border=\"1\" class=\"dataframe\">\n",
       "  <thead>\n",
       "    <tr style=\"text-align: right;\">\n",
       "      <th></th>\n",
       "      <th>Date</th>\n",
       "      <th>Open</th>\n",
       "      <th>Rise</th>\n",
       "    </tr>\n",
       "  </thead>\n",
       "  <tbody>\n",
       "    <tr>\n",
       "      <th>0</th>\n",
       "      <td>2006-10-20</td>\n",
       "      <td>1366.939941</td>\n",
       "      <td>0.001200</td>\n",
       "    </tr>\n",
       "    <tr>\n",
       "      <th>1</th>\n",
       "      <td>2006-10-23</td>\n",
       "      <td>1368.579956</td>\n",
       "      <td>0.006167</td>\n",
       "    </tr>\n",
       "    <tr>\n",
       "      <th>2</th>\n",
       "      <td>2006-10-24</td>\n",
       "      <td>1377.020020</td>\n",
       "      <td>0.000247</td>\n",
       "    </tr>\n",
       "    <tr>\n",
       "      <th>3</th>\n",
       "      <td>2006-10-25</td>\n",
       "      <td>1377.359985</td>\n",
       "      <td>0.003521</td>\n",
       "    </tr>\n",
       "    <tr>\n",
       "      <th>4</th>\n",
       "      <td>2006-10-26</td>\n",
       "      <td>1382.209961</td>\n",
       "      <td>0.004833</td>\n",
       "    </tr>\n",
       "  </tbody>\n",
       "</table>\n",
       "</div>"
      ],
      "text/plain": [
       "         Date         Open      Rise\n",
       "0  2006-10-20  1366.939941  0.001200\n",
       "1  2006-10-23  1368.579956  0.006167\n",
       "2  2006-10-24  1377.020020  0.000247\n",
       "3  2006-10-25  1377.359985  0.003521\n",
       "4  2006-10-26  1382.209961  0.004833"
      ]
     },
     "execution_count": 24,
     "metadata": {},
     "output_type": "execute_result"
    }
   ],
   "source": [
    "sp.head()"
   ]
  },
  {
   "cell_type": "code",
   "execution_count": 25,
   "metadata": {},
   "outputs": [
    {
     "data": {
      "text/html": [
       "<div>\n",
       "<style scoped>\n",
       "    .dataframe tbody tr th:only-of-type {\n",
       "        vertical-align: middle;\n",
       "    }\n",
       "\n",
       "    .dataframe tbody tr th {\n",
       "        vertical-align: top;\n",
       "    }\n",
       "\n",
       "    .dataframe thead th {\n",
       "        text-align: right;\n",
       "    }\n",
       "</style>\n",
       "<table border=\"1\" class=\"dataframe\">\n",
       "  <thead>\n",
       "    <tr style=\"text-align: right;\">\n",
       "      <th></th>\n",
       "      <th>Date</th>\n",
       "      <th>Open</th>\n",
       "      <th>Rise</th>\n",
       "    </tr>\n",
       "  </thead>\n",
       "  <tbody>\n",
       "    <tr>\n",
       "      <th>1782</th>\n",
       "      <td>2013-11-19</td>\n",
       "      <td>1790.790039</td>\n",
       "      <td>-0.000670</td>\n",
       "    </tr>\n",
       "    <tr>\n",
       "      <th>1783</th>\n",
       "      <td>2013-11-20</td>\n",
       "      <td>1789.589966</td>\n",
       "      <td>-0.003392</td>\n",
       "    </tr>\n",
       "    <tr>\n",
       "      <th>1784</th>\n",
       "      <td>2013-11-21</td>\n",
       "      <td>1783.520020</td>\n",
       "      <td>0.007676</td>\n",
       "    </tr>\n",
       "    <tr>\n",
       "      <th>1785</th>\n",
       "      <td>2013-11-22</td>\n",
       "      <td>1797.209961</td>\n",
       "      <td>0.005075</td>\n",
       "    </tr>\n",
       "    <tr>\n",
       "      <th>1786</th>\n",
       "      <td>2013-11-25</td>\n",
       "      <td>1806.329956</td>\n",
       "      <td>-0.001915</td>\n",
       "    </tr>\n",
       "  </tbody>\n",
       "</table>\n",
       "</div>"
      ],
      "text/plain": [
       "            Date         Open      Rise\n",
       "1782  2013-11-19  1790.790039 -0.000670\n",
       "1783  2013-11-20  1789.589966 -0.003392\n",
       "1784  2013-11-21  1783.520020  0.007676\n",
       "1785  2013-11-22  1797.209961  0.005075\n",
       "1786  2013-11-25  1806.329956 -0.001915"
      ]
     },
     "execution_count": 25,
     "metadata": {},
     "output_type": "execute_result"
    }
   ],
   "source": [
    "sp.tail()"
   ]
  },
  {
   "cell_type": "code",
   "execution_count": 26,
   "metadata": {},
   "outputs": [
    {
     "data": {
      "text/plain": [
       "Date    0\n",
       "Open    0\n",
       "Rise    0\n",
       "dtype: int64"
      ]
     },
     "execution_count": 26,
     "metadata": {},
     "output_type": "execute_result"
    }
   ],
   "source": [
    "# Check if there are any more null values.\n",
    "sp.isnull().sum()"
   ]
  },
  {
   "cell_type": "code",
   "execution_count": 27,
   "metadata": {
    "scrolled": true
   },
   "outputs": [],
   "source": [
    "#sp.drop(['Class'], axis = 1) "
   ]
  },
  {
   "cell_type": "code",
   "execution_count": 28,
   "metadata": {},
   "outputs": [],
   "source": [
    "# Divide Rise into two classes (1 and 0). If rise>=0.0012, rise = 1 else rise = 0[Positive - 1, Negative - 0]\n",
    "sp['Class'] = sp.Rise.apply(lambda x: 1 if x >= 0.0012 else 0)"
   ]
  },
  {
   "cell_type": "code",
   "execution_count": 29,
   "metadata": {},
   "outputs": [
    {
     "data": {
      "text/plain": [
       "array([[<matplotlib.axes._subplots.AxesSubplot object at 0x7f20082ff890>]],\n",
       "      dtype=object)"
      ]
     },
     "execution_count": 29,
     "metadata": {},
     "output_type": "execute_result"
    },
    {
     "data": {
      "image/png": "[encoded data removed]",
      "text/plain": [
       "<Figure size 432x288 with 1 Axes>"
      ]
     },
     "metadata": {
      "needs_background": "light"
     },
     "output_type": "display_data"
    }
   ],
   "source": [
    "sp.hist(column='Class')"
   ]
  },
  {
   "cell_type": "code",
   "execution_count": 30,
   "metadata": {},
   "outputs": [
    {
     "data": {
      "text/plain": [
       "(1787, 4)"
      ]
     },
     "execution_count": 30,
     "metadata": {},
     "output_type": "execute_result"
    }
   ],
   "source": [
    "sp.shape"
   ]
  },
  {
   "cell_type": "code",
   "execution_count": 31,
   "metadata": {},
   "outputs": [
    {
     "data": {
      "text/html": [
       "<div>\n",
       "<style scoped>\n",
       "    .dataframe tbody tr th:only-of-type {\n",
       "        vertical-align: middle;\n",
       "    }\n",
       "\n",
       "    .dataframe tbody tr th {\n",
       "        vertical-align: top;\n",
       "    }\n",
       "\n",
       "    .dataframe thead th {\n",
       "        text-align: right;\n",
       "    }\n",
       "</style>\n",
       "<table border=\"1\" class=\"dataframe\">\n",
       "  <thead>\n",
       "    <tr style=\"text-align: right;\">\n",
       "      <th></th>\n",
       "      <th>Date</th>\n",
       "      <th>Open</th>\n",
       "      <th>Rise</th>\n",
       "      <th>Class</th>\n",
       "    </tr>\n",
       "  </thead>\n",
       "  <tbody>\n",
       "    <tr>\n",
       "      <th>0</th>\n",
       "      <td>2006-10-20</td>\n",
       "      <td>1366.939941</td>\n",
       "      <td>0.001200</td>\n",
       "      <td>0</td>\n",
       "    </tr>\n",
       "    <tr>\n",
       "      <th>1</th>\n",
       "      <td>2006-10-23</td>\n",
       "      <td>1368.579956</td>\n",
       "      <td>0.006167</td>\n",
       "      <td>1</td>\n",
       "    </tr>\n",
       "    <tr>\n",
       "      <th>2</th>\n",
       "      <td>2006-10-24</td>\n",
       "      <td>1377.020020</td>\n",
       "      <td>0.000247</td>\n",
       "      <td>0</td>\n",
       "    </tr>\n",
       "    <tr>\n",
       "      <th>3</th>\n",
       "      <td>2006-10-25</td>\n",
       "      <td>1377.359985</td>\n",
       "      <td>0.003521</td>\n",
       "      <td>1</td>\n",
       "    </tr>\n",
       "    <tr>\n",
       "      <th>4</th>\n",
       "      <td>2006-10-26</td>\n",
       "      <td>1382.209961</td>\n",
       "      <td>0.004833</td>\n",
       "      <td>1</td>\n",
       "    </tr>\n",
       "  </tbody>\n",
       "</table>\n",
       "</div>"
      ],
      "text/plain": [
       "         Date         Open      Rise  Class\n",
       "0  2006-10-20  1366.939941  0.001200      0\n",
       "1  2006-10-23  1368.579956  0.006167      1\n",
       "2  2006-10-24  1377.020020  0.000247      0\n",
       "3  2006-10-25  1377.359985  0.003521      1\n",
       "4  2006-10-26  1382.209961  0.004833      1"
      ]
     },
     "execution_count": 31,
     "metadata": {},
     "output_type": "execute_result"
    }
   ],
   "source": [
    "sp.head()"
   ]
  },
  {
   "cell_type": "code",
   "execution_count": 32,
   "metadata": {},
   "outputs": [],
   "source": [
    "# input_time_step = 5\n",
    "# output_time_step = 1 #Always one since we are only predicting for next day\n",
    "# in_start = 0\n",
    "# past = []\n",
    "# for i in range(len(sp)):\n",
    "#     in_end = in_start + input_time_step\n",
    "#     #out_end = in_end + output_time_step\n",
    "#     if (in_end+1) <= len(sp):\n",
    "#         past.append(sp.iloc[in_start+1:in_end+1, 1].values)\n",
    "#     in_start += 1\n",
    "# #x_train, y_train = np.array(x_train), np.array(y_train)\n",
    "# #x_train = np.reshape(x_train, (x_train.shape[0], x_train.shape[1], 1))\n",
    "# print(len(past))\n",
    "# print(len(sp))\n",
    "# #print(y_train.shape)"
   ]
  },
  {
   "cell_type": "code",
   "execution_count": 33,
   "metadata": {},
   "outputs": [],
   "source": [
    "#[past.pop(i[0]) for i in past]"
   ]
  },
  {
   "cell_type": "code",
   "execution_count": 34,
   "metadata": {},
   "outputs": [],
   "source": [
    "#past[0]"
   ]
  },
  {
   "cell_type": "code",
   "execution_count": 35,
   "metadata": {
    "scrolled": true
   },
   "outputs": [],
   "source": [
    "# #sp = sp.drop(['Past'], axis = 1) \n",
    "# sp.insert(4,'Past', pd.Series(past))\n",
    "# #sp.head()"
   ]
  },
  {
   "cell_type": "code",
   "execution_count": 36,
   "metadata": {},
   "outputs": [],
   "source": [
    "#sp.head()"
   ]
  },
  {
   "cell_type": "code",
   "execution_count": 37,
   "metadata": {},
   "outputs": [],
   "source": [
    "#sp.tail(10)"
   ]
  },
  {
   "cell_type": "code",
   "execution_count": 38,
   "metadata": {},
   "outputs": [],
   "source": [
    "# # Shift by the number of input time step\n",
    "# sp['Past'] = sp['Past'].shift(input_time_step)"
   ]
  },
  {
   "cell_type": "code",
   "execution_count": 39,
   "metadata": {},
   "outputs": [],
   "source": [
    "#sp.head(8)"
   ]
  },
  {
   "cell_type": "code",
   "execution_count": 40,
   "metadata": {},
   "outputs": [],
   "source": [
    "#sp.tail()"
   ]
  },
  {
   "cell_type": "code",
   "execution_count": 41,
   "metadata": {},
   "outputs": [],
   "source": [
    "#sp.get_value(5, 'Past') "
   ]
  },
  {
   "cell_type": "code",
   "execution_count": 42,
   "metadata": {},
   "outputs": [],
   "source": [
    "#sp = sp[sp.Past.notnull()]"
   ]
  },
  {
   "cell_type": "code",
   "execution_count": 43,
   "metadata": {},
   "outputs": [],
   "source": [
    "#sp.head()"
   ]
  },
  {
   "cell_type": "code",
   "execution_count": 44,
   "metadata": {},
   "outputs": [],
   "source": [
    "#sp.tail()"
   ]
  },
  {
   "cell_type": "code",
   "execution_count": 45,
   "metadata": {},
   "outputs": [],
   "source": [
    "#sp.get_value(6, 'Past') "
   ]
  },
  {
   "cell_type": "code",
   "execution_count": 46,
   "metadata": {},
   "outputs": [],
   "source": [
    "#sp.shape"
   ]
  },
  {
   "cell_type": "code",
   "execution_count": 47,
   "metadata": {},
   "outputs": [
    {
     "name": "stdout",
     "output_type": "stream",
     "text": [
      "500\n",
      "1000\n",
      "1500\n"
     ]
    }
   ],
   "source": [
    "# Create a list of the change in opening prices and their corresponding daily headlines from the news that caused that change\n",
    "move = []\n",
    "headlines = []\n",
    "\n",
    "for row in sp.iterrows():\n",
    "    daily_headlines = []\n",
    "    date = row[1]['Date']\n",
    "    move.append(row[1]['Class'])\n",
    "    for row_ in news[news.Date==date].iterrows():\n",
    "        daily_headlines.append(row_[1]['Title'])\n",
    "    \n",
    "    # Track progress\n",
    "    headlines.append(daily_headlines)\n",
    "    if len(move) % 500 == 0:\n",
    "        print(len(move))"
   ]
  },
  {
   "cell_type": "code",
   "execution_count": 48,
   "metadata": {
    "scrolled": true
   },
   "outputs": [
    {
     "name": "stdout",
     "output_type": "stream",
     "text": [
      "0\n"
     ]
    }
   ],
   "source": [
    "print(move[0])"
   ]
  },
  {
   "cell_type": "code",
   "execution_count": 49,
   "metadata": {},
   "outputs": [
    {
     "data": {
      "text/plain": [
       "1787"
      ]
     },
     "execution_count": 49,
     "metadata": {},
     "output_type": "execute_result"
    }
   ],
   "source": [
    "len(move)"
   ]
  },
  {
   "cell_type": "code",
   "execution_count": 50,
   "metadata": {
    "scrolled": true
   },
   "outputs": [
    {
     "data": {
      "text/plain": [
       "['Hey buddy, can you spare $600 for a Google share?',\n",
       " \"Inco's Net Soars on Higher Metal Prices, Breakup Fee.\",\n",
       " 'Exxon Mobil offers plan to end Alaska dispute.']"
      ]
     },
     "execution_count": 50,
     "metadata": {},
     "output_type": "execute_result"
    }
   ],
   "source": [
    "#headlines[:5]\n",
    "headlines[0]"
   ]
  },
  {
   "cell_type": "code",
   "execution_count": 51,
   "metadata": {
    "scrolled": true
   },
   "outputs": [],
   "source": [
    "#check\n",
    "#news[news['Date']=='2006-10-27']"
   ]
  },
  {
   "cell_type": "code",
   "execution_count": 52,
   "metadata": {},
   "outputs": [],
   "source": [
    "#len(news[news['Date'] == '2006-10-23'])"
   ]
  },
  {
   "cell_type": "code",
   "execution_count": 53,
   "metadata": {},
   "outputs": [
    {
     "name": "stdout",
     "output_type": "stream",
     "text": [
      "1787\n",
      "1787\n"
     ]
    }
   ],
   "source": [
    "# Compare lengths to ensure they are the same\n",
    "print(len(move))\n",
    "print(len(headlines))\n",
    "#print(len(past))"
   ]
  },
  {
   "cell_type": "code",
   "execution_count": 54,
   "metadata": {},
   "outputs": [
    {
     "name": "stdout",
     "output_type": "stream",
     "text": [
      "1572\n",
      "3\n"
     ]
    }
   ],
   "source": [
    "# Compare the number of headlines for each day\n",
    "print(max(len(i) for i in headlines))\n",
    "print(min(len(i) for i in headlines))\n",
    "#print(np.mean(len(i) for i in headlines))"
   ]
  },
  {
   "cell_type": "code",
   "execution_count": 55,
   "metadata": {},
   "outputs": [],
   "source": [
    "# A list of contractions from http://stackoverflow.com/questions/19790188/expanding-english-language-contractions-in-python\n",
    "contractions = { \n",
    "\"ain't\": \"am not\",\n",
    "\"aren't\": \"are not\",\n",
    "\"can't\": \"cannot\",\n",
    "\"can't've\": \"cannot have\",\n",
    "\"'cause\": \"because\",\n",
    "\"could've\": \"could have\",\n",
    "\"couldn't\": \"could not\",\n",
    "\"couldn't've\": \"could not have\",\n",
    "\"didn't\": \"did not\",\n",
    "\"doesn't\": \"does not\",\n",
    "\"don't\": \"do not\",\n",
    "\"hadn't\": \"had not\",\n",
    "\"hadn't've\": \"had not have\",\n",
    "\"hasn't\": \"has not\",\n",
    "\"haven't\": \"have not\",\n",
    "\"he'd\": \"he would\",\n",
    "\"he'd've\": \"he would have\",\n",
    "\"he'll\": \"he will\",\n",
    "\"he's\": \"he is\",\n",
    "\"how'd\": \"how did\",\n",
    "\"how'll\": \"how will\",\n",
    "\"how's\": \"how is\",\n",
    "\"i'd\": \"i would\",\n",
    "\"i'll\": \"i will\",\n",
    "\"i'm\": \"i am\",\n",
    "\"i've\": \"i have\",\n",
    "\"isn't\": \"is not\",\n",
    "\"it'd\": \"it would\",\n",
    "\"it'll\": \"it will\",\n",
    "\"it's\": \"it is\",\n",
    "\"let's\": \"let us\",\n",
    "\"ma'am\": \"madam\",\n",
    "\"mayn't\": \"may not\",\n",
    "\"might've\": \"might have\",\n",
    "\"mightn't\": \"might not\",\n",
    "\"must've\": \"must have\",\n",
    "\"mustn't\": \"must not\",\n",
    "\"needn't\": \"need not\",\n",
    "\"oughtn't\": \"ought not\",\n",
    "\"shan't\": \"shall not\",\n",
    "\"sha'n't\": \"shall not\",\n",
    "\"she'd\": \"she would\",\n",
    "\"she'll\": \"she will\",\n",
    "\"she's\": \"she is\",\n",
    "\"should've\": \"should have\",\n",
    "\"shouldn't\": \"should not\",\n",
    "\"that'd\": \"that would\",\n",
    "\"that's\": \"that is\",\n",
    "\"there'd\": \"there had\",\n",
    "\"there's\": \"there is\",\n",
    "\"they'd\": \"they would\",\n",
    "\"they'll\": \"they will\",\n",
    "\"they're\": \"they are\",\n",
    "\"they've\": \"they have\",\n",
    "\"wasn't\": \"was not\",\n",
    "\"we'd\": \"we would\",\n",
    "\"we'll\": \"we will\",\n",
    "\"we're\": \"we are\",\n",
    "\"we've\": \"we have\",\n",
    "\"weren't\": \"were not\",\n",
    "\"what'll\": \"what will\",\n",
    "\"what're\": \"what are\",\n",
    "\"what's\": \"what is\",\n",
    "\"what've\": \"what have\",\n",
    "\"where'd\": \"where did\",\n",
    "\"where's\": \"where is\",\n",
    "\"who'll\": \"who will\",\n",
    "\"who's\": \"who is\",\n",
    "\"won't\": \"will not\",\n",
    "\"wouldn't\": \"would not\",\n",
    "\"you'd\": \"you would\",\n",
    "\"you'll\": \"you will\",\n",
    "\"you're\": \"you are\"\n",
    "}"
   ]
  },
  {
   "cell_type": "code",
   "execution_count": 56,
   "metadata": {},
   "outputs": [],
   "source": [
    "import string\n",
    "def clean_text(text, remove_stopwords = True):\n",
    "    '''Remove unwanted characters and format the text to create fewer nulls word embeddings'''\n",
    "    \n",
    "    # Convert words to lower case\n",
    "    text = text.lower()\n",
    "    \n",
    "    # Replace contractions with their longer forms \n",
    "    if True:\n",
    "        text = text.split()\n",
    "        new_text = []\n",
    "        for word in text:\n",
    "            if word in contractions:\n",
    "                new_text.append(contractions[word])\n",
    "            else:\n",
    "                new_text.append(word)\n",
    "        text = \" \".join(new_text)\n",
    "        \n",
    "    if '-' in text and 'update' in text:\n",
    "        text = text[text.find('-') + 1:]\n",
    "    \n",
    "    # Format words and remove unwanted characters\n",
    "    text = re.sub(r'&amp;', '', text) \n",
    "    text = re.sub(r'0,0', '00', text) \n",
    "    #text = re.sub(r'[_\"\\-;%()|.,+&=*%.,!?:#@\\[\\]$]', '', text)\n",
    "    text = re.sub(r'\\'', ' ', text)\n",
    "    #text = re.sub(r'\\$', ' $ ', text)\n",
    "    text = re.sub(r'u s ', ' united states ', text)\n",
    "    text = re.sub(r'u n ', ' united nations ', text)\n",
    "    text = re.sub(r'u k ', ' united kingdom ', text)\n",
    "    text = re.sub(r'j k ', ' jk ', text)\n",
    "    text = re.sub(r' s ', ' ', text)\n",
    "    text = re.sub(r' yr ', ' year ', text)\n",
    "    text = re.sub(r' l g b t ', ' lgbt ', text)\n",
    "    text = re.sub(r'0km ', '0 km ', text)\n",
    "    \n",
    "    text = text.translate(str.maketrans('','',string.punctuation))\n",
    "    \n",
    "    # Optionally, remove stop words\n",
    "    if remove_stopwords:\n",
    "        text = text.split()\n",
    "        stops = set(stopwords.words(\"english\"))\n",
    "        text = [w for w in text if not w in stops]\n",
    "        text = \" \".join(text)\n",
    "\n",
    "    return text"
   ]
  },
  {
   "cell_type": "code",
   "execution_count": 57,
   "metadata": {},
   "outputs": [],
   "source": [
    "# Clean the headlines\n",
    "clean_headlines = []\n",
    "\n",
    "for daily_headlines in headlines:\n",
    "    clean_daily_headlines = []\n",
    "    for headline in daily_headlines:\n",
    "        clean_daily_headlines.append(clean_text(headline))\n",
    "    clean_headlines.append(clean_daily_headlines)"
   ]
  },
  {
   "cell_type": "code",
   "execution_count": 58,
   "metadata": {
    "scrolled": true
   },
   "outputs": [
    {
     "data": {
      "text/plain": [
       "['hey buddy spare 600 google share',\n",
       " 'inco net soars higher metal prices breakup fee',\n",
       " 'exxon mobil offers plan end alaska dispute']"
      ]
     },
     "execution_count": 58,
     "metadata": {},
     "output_type": "execute_result"
    }
   ],
   "source": [
    "# Take a look at some headlines to ensure everything was cleaned well\n",
    "clean_headlines[0]"
   ]
  },
  {
   "cell_type": "code",
   "execution_count": 59,
   "metadata": {},
   "outputs": [
    {
     "data": {
      "text/plain": [
       "1787"
      ]
     },
     "execution_count": 59,
     "metadata": {},
     "output_type": "execute_result"
    }
   ],
   "source": [
    "len(clean_headlines)"
   ]
  },
  {
   "cell_type": "code",
   "execution_count": 60,
   "metadata": {},
   "outputs": [
    {
     "name": "stdout",
     "output_type": "stream",
     "text": [
      "Size of Vocabulary: 116488\n"
     ]
    }
   ],
   "source": [
    "# Find the number of times each word was used and the size of the vocabulary\n",
    "word_counts = {}\n",
    "\n",
    "for date in clean_headlines:\n",
    "    for headline in date:\n",
    "        for word in headline.split():\n",
    "            if word not in word_counts:\n",
    "                word_counts[word] = 1\n",
    "            else:\n",
    "                word_counts[word] += 1\n",
    "            \n",
    "print(\"Size of Vocabulary:\", len(word_counts))"
   ]
  },
  {
   "cell_type": "code",
   "execution_count": 61,
   "metadata": {},
   "outputs": [],
   "source": [
    "#word_counts['hey']"
   ]
  },
  {
   "cell_type": "code",
   "execution_count": 62,
   "metadata": {},
   "outputs": [],
   "source": [
    "# Load Word2Vec model (trained on an enormous Google corpus)\n",
    "#embeddings_index = gensim.models.KeyedVectors.load_word2vec_format('GoogleNews-vectors-negative300.bin', binary = True)"
   ]
  },
  {
   "cell_type": "code",
   "execution_count": 63,
   "metadata": {},
   "outputs": [
    {
     "name": "stdout",
     "output_type": "stream",
     "text": [
      "Word embeddings: 2196016\n"
     ]
    }
   ],
   "source": [
    "# Load GloVe's embeddings\n",
    "embeddings_index = {}\n",
    "with open('glove.840B.300d.txt', encoding='utf-8') as f:\n",
    "    for line in f:\n",
    "        values = line.split(' ')\n",
    "        word = values[0]\n",
    "        embedding = np.asarray(values[1:], dtype='float32')\n",
    "        embeddings_index[word] = embedding\n",
    "\n",
    "print('Word embeddings:', len(embeddings_index))"
   ]
  },
  {
   "cell_type": "code",
   "execution_count": 64,
   "metadata": {
    "scrolled": true
   },
   "outputs": [
    {
     "name": "stdout",
     "output_type": "stream",
     "text": [
      "Number of words missing from GloVe: 3533\n",
      "Percent of words that are missing from vocabulary: 3.0300000000000002%\n"
     ]
    }
   ],
   "source": [
    "# Find the number of words that are missing from GloVe, and are used more than our threshold.\n",
    "missing_words = 0\n",
    "threshold = 10\n",
    "\n",
    "for word, count in word_counts.items():\n",
    "    if count > threshold:\n",
    "        if word not in embeddings_index:\n",
    "            missing_words += 1\n",
    "            \n",
    "missing_ratio = round(missing_words/len(word_counts),4)*100\n",
    "            \n",
    "print(\"Number of words missing from GloVe:\", missing_words)\n",
    "print(\"Percent of words that are missing from vocabulary: {}%\".format(missing_ratio))"
   ]
  },
  {
   "cell_type": "code",
   "execution_count": 65,
   "metadata": {},
   "outputs": [
    {
     "name": "stdout",
     "output_type": "stream",
     "text": [
      "Total Number of Unique Words: 116488\n",
      "Number of Words we will use: 65519\n",
      "Percent of Words we will use: 56.25%\n"
     ]
    }
   ],
   "source": [
    "# Limit the vocab that we will use to words that appear ≥ threshold or are in GloVe\n",
    "\n",
    "#dictionary to convert words to integers\n",
    "vocab_to_int = {} \n",
    "\n",
    "value = 0\n",
    "for word, count in word_counts.items():\n",
    "    if count >= threshold or word in embeddings_index:\n",
    "        vocab_to_int[word] = value\n",
    "        value += 1\n",
    "\n",
    "# Special tokens that will be added to our vocab\n",
    "codes = [\"<UNK>\",\"<PAD>\"]   \n",
    "\n",
    "# Add codes to vocab\n",
    "for code in codes:\n",
    "    vocab_to_int[code] = len(vocab_to_int)\n",
    "\n",
    "# Dictionary to convert integers to words\n",
    "int_to_vocab = {}\n",
    "for word, value in vocab_to_int.items():\n",
    "    int_to_vocab[value] = word\n",
    "\n",
    "usage_ratio = round(len(vocab_to_int) / len(word_counts),4)*100\n",
    "\n",
    "print(\"Total Number of Unique Words:\", len(word_counts))\n",
    "print(\"Number of Words we will use:\", len(vocab_to_int))\n",
    "print(\"Percent of Words we will use: {}%\".format(usage_ratio))"
   ]
  },
  {
   "cell_type": "code",
   "execution_count": 66,
   "metadata": {},
   "outputs": [
    {
     "name": "stdout",
     "output_type": "stream",
     "text": [
      "65519\n"
     ]
    }
   ],
   "source": [
    "# Need to use 300 for embedding dimensions to match GloVe's vectors.\n",
    "embedding_dim = 300\n",
    "\n",
    "nb_words = len(vocab_to_int)\n",
    "# Create matrix with default values of zero\n",
    "word_embedding_matrix = np.zeros((nb_words, embedding_dim))\n",
    "for word, i in vocab_to_int.items():\n",
    "    if word in embeddings_index:\n",
    "        word_embedding_matrix[i] = embeddings_index[word]\n",
    "    else:\n",
    "        # If word not in GloVe, create a random embedding for it\n",
    "        new_embedding = np.array(np.random.uniform(-1.0, 1.0, embedding_dim))\n",
    "        embeddings_index[word] = new_embedding\n",
    "        word_embedding_matrix[i] = new_embedding\n",
    "\n",
    "# Check if value matches len(vocab_to_int)\n",
    "print(len(word_embedding_matrix))"
   ]
  },
  {
   "cell_type": "code",
   "execution_count": 67,
   "metadata": {},
   "outputs": [
    {
     "name": "stdout",
     "output_type": "stream",
     "text": [
      "Total number of words in headlines: 3919392\n",
      "Total number of UNKs in headlines: 89870\n",
      "Percent of words that are UNK: 2.29%\n"
     ]
    }
   ],
   "source": [
    "# Change the text from words to integers\n",
    "# If word is not in vocab, replace it with <UNK> (unknown)\n",
    "word_count = 0\n",
    "unk_count = 0\n",
    "\n",
    "int_headlines = []\n",
    "\n",
    "for date in clean_headlines:\n",
    "    int_daily_headlines = []\n",
    "    for headline in date:\n",
    "        int_headline = []\n",
    "        for word in headline.split():\n",
    "            word_count += 1\n",
    "            if word in vocab_to_int:\n",
    "                int_headline.append(vocab_to_int[word])\n",
    "            else:\n",
    "                int_headline.append(vocab_to_int[\"<UNK>\"])\n",
    "                unk_count += 1\n",
    "        int_daily_headlines.append(int_headline)\n",
    "    int_headlines.append(int_daily_headlines)\n",
    "\n",
    "unk_percent = round(unk_count/word_count,4)*100\n",
    "\n",
    "print(\"Total number of words in headlines:\", word_count)\n",
    "print(\"Total number of UNKs in headlines:\", unk_count)\n",
    "print(\"Percent of words that are UNK: {}%\".format(unk_percent))"
   ]
  },
  {
   "cell_type": "code",
   "execution_count": 68,
   "metadata": {
    "scrolled": true
   },
   "outputs": [
    {
     "data": {
      "text/plain": [
       "[[0, 1, 2, 3, 4, 5],\n",
       " [6, 7, 8, 9, 10, 11, 12, 13],\n",
       " [14, 15, 16, 17, 18, 19, 20]]"
      ]
     },
     "execution_count": 68,
     "metadata": {},
     "output_type": "execute_result"
    }
   ],
   "source": [
    "int_headlines[0]"
   ]
  },
  {
   "cell_type": "code",
   "execution_count": 69,
   "metadata": {},
   "outputs": [],
   "source": [
    "# Find the length of headlines\n",
    "lengths = []\n",
    "for date in int_headlines:\n",
    "    for headline in date:\n",
    "        lengths.append(len(headline))\n",
    "\n",
    "# Create a dataframe so that the values can be inspected\n",
    "lengths = pd.DataFrame(lengths, columns=['counts'])"
   ]
  },
  {
   "cell_type": "code",
   "execution_count": 70,
   "metadata": {
    "scrolled": true
   },
   "outputs": [
    {
     "data": {
      "text/html": [
       "<div>\n",
       "<style scoped>\n",
       "    .dataframe tbody tr th:only-of-type {\n",
       "        vertical-align: middle;\n",
       "    }\n",
       "\n",
       "    .dataframe tbody tr th {\n",
       "        vertical-align: top;\n",
       "    }\n",
       "\n",
       "    .dataframe thead th {\n",
       "        text-align: right;\n",
       "    }\n",
       "</style>\n",
       "<table border=\"1\" class=\"dataframe\">\n",
       "  <thead>\n",
       "    <tr style=\"text-align: right;\">\n",
       "      <th></th>\n",
       "      <th>counts</th>\n",
       "    </tr>\n",
       "  </thead>\n",
       "  <tbody>\n",
       "    <tr>\n",
       "      <th>count</th>\n",
       "      <td>500744.000000</td>\n",
       "    </tr>\n",
       "    <tr>\n",
       "      <th>mean</th>\n",
       "      <td>7.827137</td>\n",
       "    </tr>\n",
       "    <tr>\n",
       "      <th>std</th>\n",
       "      <td>1.447765</td>\n",
       "    </tr>\n",
       "    <tr>\n",
       "      <th>min</th>\n",
       "      <td>0.000000</td>\n",
       "    </tr>\n",
       "    <tr>\n",
       "      <th>25%</th>\n",
       "      <td>7.000000</td>\n",
       "    </tr>\n",
       "    <tr>\n",
       "      <th>50%</th>\n",
       "      <td>8.000000</td>\n",
       "    </tr>\n",
       "    <tr>\n",
       "      <th>75%</th>\n",
       "      <td>9.000000</td>\n",
       "    </tr>\n",
       "    <tr>\n",
       "      <th>max</th>\n",
       "      <td>15.000000</td>\n",
       "    </tr>\n",
       "  </tbody>\n",
       "</table>\n",
       "</div>"
      ],
      "text/plain": [
       "              counts\n",
       "count  500744.000000\n",
       "mean        7.827137\n",
       "std         1.447765\n",
       "min         0.000000\n",
       "25%         7.000000\n",
       "50%         8.000000\n",
       "75%         9.000000\n",
       "max        15.000000"
      ]
     },
     "execution_count": 70,
     "metadata": {},
     "output_type": "execute_result"
    }
   ],
   "source": [
    "lengths.describe()"
   ]
  },
  {
   "cell_type": "code",
   "execution_count": 71,
   "metadata": {},
   "outputs": [],
   "source": [
    "# Limit the length of a day's news to 200 words, and the length of any headline to 15 words.\n",
    "# These values are chosen to not have an excessively long training time and \n",
    "# balance the number of headlines used and the number of words from each headline.\n",
    "max_headline_length = 15\n",
    "max_daily_length = 200\n",
    "pad_headlines = []\n",
    "\n",
    "for date in int_headlines:\n",
    "    pad_daily_headlines = []\n",
    "    for headline in date:\n",
    "        # Add headline if it is less than max length\n",
    "        if len(headline) <= max_headline_length:\n",
    "            for word in headline:\n",
    "                pad_daily_headlines.append(word)\n",
    "        # Limit headline if it is more than max length  \n",
    "        else:\n",
    "            headline = headline[:max_headline_length]\n",
    "            for word in headline:\n",
    "                pad_daily_headlines.append(word)\n",
    "    \n",
    "    # Pad daily_headlines if they are less than max length\n",
    "    if len(pad_daily_headlines) < max_daily_length:\n",
    "        for i in range(max_daily_length-len(pad_daily_headlines)):\n",
    "            pad = vocab_to_int[\"<PAD>\"]\n",
    "            pad_daily_headlines.append(pad)\n",
    "    # Limit daily_headlines if they are more than max length\n",
    "    else:\n",
    "        pad_daily_headlines = pad_daily_headlines[:max_daily_length]\n",
    "    pad_headlines.append(pad_daily_headlines)"
   ]
  },
  {
   "cell_type": "code",
   "execution_count": 72,
   "metadata": {},
   "outputs": [
    {
     "data": {
      "text/plain": [
       "[0,\n",
       " 1,\n",
       " 2,\n",
       " 3,\n",
       " 4,\n",
       " 5,\n",
       " 6,\n",
       " 7,\n",
       " 8,\n",
       " 9,\n",
       " 10,\n",
       " 11,\n",
       " 12,\n",
       " 13,\n",
       " 14,\n",
       " 15,\n",
       " 16,\n",
       " 17,\n",
       " 18,\n",
       " 19,\n",
       " 20,\n",
       " 65518,\n",
       " 65518,\n",
       " 65518,\n",
       " 65518,\n",
       " 65518,\n",
       " 65518,\n",
       " 65518,\n",
       " 65518,\n",
       " 65518,\n",
       " 65518,\n",
       " 65518,\n",
       " 65518,\n",
       " 65518,\n",
       " 65518,\n",
       " 65518,\n",
       " 65518,\n",
       " 65518,\n",
       " 65518,\n",
       " 65518,\n",
       " 65518,\n",
       " 65518,\n",
       " 65518,\n",
       " 65518,\n",
       " 65518,\n",
       " 65518,\n",
       " 65518,\n",
       " 65518,\n",
       " 65518,\n",
       " 65518,\n",
       " 65518,\n",
       " 65518,\n",
       " 65518,\n",
       " 65518,\n",
       " 65518,\n",
       " 65518,\n",
       " 65518,\n",
       " 65518,\n",
       " 65518,\n",
       " 65518,\n",
       " 65518,\n",
       " 65518,\n",
       " 65518,\n",
       " 65518,\n",
       " 65518,\n",
       " 65518,\n",
       " 65518,\n",
       " 65518,\n",
       " 65518,\n",
       " 65518,\n",
       " 65518,\n",
       " 65518,\n",
       " 65518,\n",
       " 65518,\n",
       " 65518,\n",
       " 65518,\n",
       " 65518,\n",
       " 65518,\n",
       " 65518,\n",
       " 65518,\n",
       " 65518,\n",
       " 65518,\n",
       " 65518,\n",
       " 65518,\n",
       " 65518,\n",
       " 65518,\n",
       " 65518,\n",
       " 65518,\n",
       " 65518,\n",
       " 65518,\n",
       " 65518,\n",
       " 65518,\n",
       " 65518,\n",
       " 65518,\n",
       " 65518,\n",
       " 65518,\n",
       " 65518,\n",
       " 65518,\n",
       " 65518,\n",
       " 65518,\n",
       " 65518,\n",
       " 65518,\n",
       " 65518,\n",
       " 65518,\n",
       " 65518,\n",
       " 65518,\n",
       " 65518,\n",
       " 65518,\n",
       " 65518,\n",
       " 65518,\n",
       " 65518,\n",
       " 65518,\n",
       " 65518,\n",
       " 65518,\n",
       " 65518,\n",
       " 65518,\n",
       " 65518,\n",
       " 65518,\n",
       " 65518,\n",
       " 65518,\n",
       " 65518,\n",
       " 65518,\n",
       " 65518,\n",
       " 65518,\n",
       " 65518,\n",
       " 65518,\n",
       " 65518,\n",
       " 65518,\n",
       " 65518,\n",
       " 65518,\n",
       " 65518,\n",
       " 65518,\n",
       " 65518,\n",
       " 65518,\n",
       " 65518,\n",
       " 65518,\n",
       " 65518,\n",
       " 65518,\n",
       " 65518,\n",
       " 65518,\n",
       " 65518,\n",
       " 65518,\n",
       " 65518,\n",
       " 65518,\n",
       " 65518,\n",
       " 65518,\n",
       " 65518,\n",
       " 65518,\n",
       " 65518,\n",
       " 65518,\n",
       " 65518,\n",
       " 65518,\n",
       " 65518,\n",
       " 65518,\n",
       " 65518,\n",
       " 65518,\n",
       " 65518,\n",
       " 65518,\n",
       " 65518,\n",
       " 65518,\n",
       " 65518,\n",
       " 65518,\n",
       " 65518,\n",
       " 65518,\n",
       " 65518,\n",
       " 65518,\n",
       " 65518,\n",
       " 65518,\n",
       " 65518,\n",
       " 65518,\n",
       " 65518,\n",
       " 65518,\n",
       " 65518,\n",
       " 65518,\n",
       " 65518,\n",
       " 65518,\n",
       " 65518,\n",
       " 65518,\n",
       " 65518,\n",
       " 65518,\n",
       " 65518,\n",
       " 65518,\n",
       " 65518,\n",
       " 65518,\n",
       " 65518,\n",
       " 65518,\n",
       " 65518,\n",
       " 65518,\n",
       " 65518,\n",
       " 65518,\n",
       " 65518,\n",
       " 65518,\n",
       " 65518,\n",
       " 65518,\n",
       " 65518,\n",
       " 65518,\n",
       " 65518,\n",
       " 65518,\n",
       " 65518,\n",
       " 65518]"
      ]
     },
     "execution_count": 72,
     "metadata": {},
     "output_type": "execute_result"
    }
   ],
   "source": [
    "pad_headlines[0]"
   ]
  },
  {
   "cell_type": "code",
   "execution_count": 73,
   "metadata": {},
   "outputs": [],
   "source": [
    "# Split data into training and testing sets.\n",
    "# Validating data will be created during training.\n",
    "x_train, x_test, y_train, y_test = train_test_split(pad_headlines, move, test_size = 0.15, random_state = 2)\n",
    "\n",
    "x_train = np.array(x_train)\n",
    "x_test = np.array(x_test)\n",
    "y_train = np.array(y_train)\n",
    "y_test = np.array(y_test)"
   ]
  },
  {
   "cell_type": "code",
   "execution_count": 75,
   "metadata": {},
   "outputs": [
    {
     "name": "stdout",
     "output_type": "stream",
     "text": [
      "796\n",
      "129\n",
      "722\n",
      "140\n"
     ]
    }
   ],
   "source": [
    "zero_train = np.count_nonzero(y_train == 0)\n",
    "zero_test = np.count_nonzero(y_test == 0)\n",
    "one_train = np.count_nonzero(y_train == 1)\n",
    "one_test = np.count_nonzero(y_test == 1)\n",
    "print(zero_train)\n",
    "print(zero_test)\n",
    "print(one_train)\n",
    "print(one_test)"
   ]
  },
  {
   "cell_type": "code",
   "execution_count": 76,
   "metadata": {},
   "outputs": [
    {
     "name": "stdout",
     "output_type": "stream",
     "text": [
      "1518\n",
      "269\n"
     ]
    }
   ],
   "source": [
    "# Check the lengths\n",
    "print(len(x_train))\n",
    "print(len(x_test))"
   ]
  },
  {
   "cell_type": "code",
   "execution_count": 83,
   "metadata": {},
   "outputs": [],
   "source": [
    "filter_length1 = 3\n",
    "filter_length2 = 5\n",
    "dropout = 0.5\n",
    "learning_rate = 0.001\n",
    "weights = initializers.TruncatedNormal(mean=0.0, stddev=0.1, seed=2)\n",
    "nb_filter = 16\n",
    "rnn_output_size = 128\n",
    "hidden_dims = 128\n",
    "wider = True\n",
    "deeper = True\n",
    "\n",
    "if wider == True:\n",
    "    nb_filter *= 2\n",
    "    rnn_output_size *= 2\n",
    "    hidden_dims *= 2\n",
    "    \n",
    "\n",
    "def build_model():\n",
    "    \n",
    "    model1 = Sequential()\n",
    "    \n",
    "    model1.add(Embedding(nb_words, \n",
    "                         embedding_dim,\n",
    "                         weights=[word_embedding_matrix], \n",
    "                         input_length=max_daily_length))\n",
    "    model1.add(Dropout(dropout))\n",
    "    \n",
    "    model1.add(Convolution1D(filters = nb_filter, \n",
    "                             kernel_size = filter_length1, \n",
    "                             padding = 'same',\n",
    "                            activation = 'relu'))\n",
    "    model1.add(Dropout(dropout))\n",
    "    \n",
    "    if deeper == True:\n",
    "        model1.add(Convolution1D(filters = nb_filter, \n",
    "                                 kernel_size = filter_length1, \n",
    "                                 padding = 'same',\n",
    "                                activation = 'relu'))\n",
    "        model1.add(Dropout(dropout))\n",
    "    \n",
    "    model1.add(LSTM(rnn_output_size, \n",
    "                   activation=None,\n",
    "                   kernel_initializer=weights,\n",
    "                   dropout = dropout))\n",
    "    \n",
    "    ####\n",
    "    \n",
    "    model2 = Sequential()\n",
    "    \n",
    "    model2.add(Embedding(nb_words, \n",
    "                         embedding_dim,\n",
    "                         weights=[word_embedding_matrix], \n",
    "                         input_length=max_daily_length))\n",
    "    model2.add(Dropout(dropout))\n",
    "    \n",
    "    \n",
    "    model2.add(Convolution1D(filters = nb_filter, \n",
    "                             kernel_size = filter_length2, \n",
    "                             padding = 'same',\n",
    "                             activation = 'relu'))\n",
    "    model2.add(Dropout(dropout))\n",
    "    \n",
    "    if deeper == True:\n",
    "        model2.add(Convolution1D(filters = nb_filter, \n",
    "                                 kernel_size = filter_length2, \n",
    "                                 padding = 'same',\n",
    "                                 activation = 'relu'))\n",
    "        model2.add(Dropout(dropout))\n",
    "    \n",
    "    model2.add(LSTM(rnn_output_size, \n",
    "                    activation=None,\n",
    "                    kernel_initializer=weights,\n",
    "                    dropout = dropout))\n",
    "    \n",
    "    ####\n",
    "    model = Sequential()\n",
    "\n",
    "    model = Add()([model1.output, model2.output])\n",
    "    \n",
    "    model = Dense(hidden_dims, kernel_initializer=weights)(model)\n",
    "    model = Dropout(dropout)(model)\n",
    "    \n",
    "    if deeper == True:\n",
    "        model = Dense(hidden_dims//2, kernel_initializer=weights)(model)\n",
    "        model = Dropout(dropout)(model)\n",
    "\n",
    "    model = Dense(1, kernel_initializer = weights, name='output', activation='softmax')(model)\n",
    "    new_model = Model([model1.input, model2.input], model)\n",
    "    new_model.compile(loss='binary_crossentropy',\n",
    "                  optimizer=Adam(lr=learning_rate,clipvalue=1.0),\n",
    "                  metrics=['accuracy'])\n",
    "    return new_model"
   ]
  },
  {
   "cell_type": "code",
   "execution_count": 84,
   "metadata": {
    "scrolled": true
   },
   "outputs": [],
   "source": [
    "model = build_model()\n",
    "#|plot_model(model,show_shapes=True)"
   ]
  },
  {
   "cell_type": "code",
   "execution_count": null,
   "metadata": {},
   "outputs": [
    {
     "name": "stdout",
     "output_type": "stream",
     "text": [
      "\n",
      "Current model: Deeper=False, Wider=True, LR=0.001, Dropout=0.3\n",
      "\n"
     ]
    },
    {
     "name": "stderr",
     "output_type": "stream",
     "text": [
      "/home/saugat/anaconda3/envs/research/lib/python3.7/site-packages/tensorflow_core/python/framework/indexed_slices.py:424: UserWarning: Converting sparse IndexedSlices to a dense Tensor of unknown shape. This may consume a large amount of memory.\n",
      "  \"Converting sparse IndexedSlices to a dense Tensor of unknown shape. \"\n"
     ]
    },
    {
     "name": "stdout",
     "output_type": "stream",
     "text": [
      "Train on 1290 samples, validate on 228 samples\n",
      "Epoch 1/100\n",
      "1290/1290 [==============================] - 107s 83ms/step - loss: 8.0113 - accuracy: 0.4775 - val_loss: 8.2046 - val_accuracy: 0.4649\n",
      "Epoch 2/100\n",
      "1290/1290 [==============================] - 54s 42ms/step - loss: 8.0113 - accuracy: 0.4775 - val_loss: 8.2046 - val_accuracy: 0.4649\n",
      "Epoch 3/100\n",
      "1290/1290 [==============================] - 55s 42ms/step - loss: 8.0113 - accuracy: 0.4775 - val_loss: 8.2046 - val_accuracy: 0.4649\n",
      "Epoch 4/100\n",
      "1290/1290 [==============================] - 58s 45ms/step - loss: 8.0113 - accuracy: 0.4775 - val_loss: 8.2046 - val_accuracy: 0.4649\n",
      "\n",
      "Epoch 00004: ReduceLROnPlateau reducing learning rate to 0.00020000000949949026.\n",
      "Epoch 5/100\n",
      "1290/1290 [==============================] - 57s 45ms/step - loss: 8.0113 - accuracy: 0.4775 - val_loss: 8.2046 - val_accuracy: 0.4649\n",
      "Epoch 6/100\n",
      "1290/1290 [==============================] - 56s 43ms/step - loss: 8.0113 - accuracy: 0.4775 - val_loss: 8.2046 - val_accuracy: 0.4649\n",
      "Epoch 00006: early stopping\n",
      "\n",
      "Current model: Deeper=False, Wider=True, LR=0.001, Dropout=0.5\n",
      "\n"
     ]
    },
    {
     "name": "stderr",
     "output_type": "stream",
     "text": [
      "/home/saugat/anaconda3/envs/research/lib/python3.7/site-packages/tensorflow_core/python/framework/indexed_slices.py:424: UserWarning: Converting sparse IndexedSlices to a dense Tensor of unknown shape. This may consume a large amount of memory.\n",
      "  \"Converting sparse IndexedSlices to a dense Tensor of unknown shape. \"\n"
     ]
    },
    {
     "name": "stdout",
     "output_type": "stream",
     "text": [
      "Train on 1290 samples, validate on 228 samples\n",
      "Epoch 1/100\n",
      "1024/1290 [======================>.......] - ETA: 23s - loss: 7.8912 - accuracy: 0.4854"
     ]
    }
   ],
   "source": [
    "# Use grid search to help find a better model\n",
    "for deeper in [False]:\n",
    "    for wider in [True,False]:\n",
    "        for learning_rate in [0.001]:\n",
    "            for dropout in [0.3, 0.5]:\n",
    "                model = build_model()\n",
    "                print()\n",
    "                print(\"Current model: Deeper={}, Wider={}, LR={}, Dropout={}\".format(\n",
    "                    deeper,wider,learning_rate,dropout))\n",
    "                print()\n",
    "                save_best_weights = 'question_pairs_weights_deeper={}_wider={}_lr={}_dropout={}.h5'.format(\n",
    "                    deeper,wider,learning_rate,dropout)\n",
    "\n",
    "                callbacks = [ModelCheckpoint(save_best_weights, monitor='val_loss', save_best_only=True),\n",
    "                             EarlyStopping(monitor='val_loss', patience=5, verbose=1, mode='auto'),\n",
    "                             ReduceLROnPlateau(monitor='val_loss', factor=0.2, verbose=1, patience=3)]\n",
    "\n",
    "                history = model.fit([x_train,x_train],\n",
    "                                    y_train,\n",
    "                                    batch_size=32,\n",
    "                                    epochs=100,\n",
    "                                    validation_split=0.15,\n",
    "                                    verbose=True,\n",
    "                                    shuffle=True,\n",
    "                                    callbacks = callbacks)"
   ]
  },
  {
   "cell_type": "code",
   "execution_count": 76,
   "metadata": {},
   "outputs": [],
   "source": [
    "#news.groupby('Date').count().sort_values('Title')\n",
    "news_group = news.groupby('Date').count()\n",
    "#news_group.apply()"
   ]
  },
  {
   "cell_type": "code",
   "execution_count": 77,
   "metadata": {},
   "outputs": [
    {
     "data": {
      "text/html": [
       "<div>\n",
       "<style scoped>\n",
       "    .dataframe tbody tr th:only-of-type {\n",
       "        vertical-align: middle;\n",
       "    }\n",
       "\n",
       "    .dataframe tbody tr th {\n",
       "        vertical-align: top;\n",
       "    }\n",
       "\n",
       "    .dataframe thead th {\n",
       "        text-align: right;\n",
       "    }\n",
       "</style>\n",
       "<table border=\"1\" class=\"dataframe\">\n",
       "  <thead>\n",
       "    <tr style=\"text-align: right;\">\n",
       "      <th></th>\n",
       "      <th>Title</th>\n",
       "    </tr>\n",
       "    <tr>\n",
       "      <th>Date</th>\n",
       "      <th></th>\n",
       "    </tr>\n",
       "  </thead>\n",
       "  <tbody>\n",
       "    <tr>\n",
       "      <th>2006-10-20</th>\n",
       "      <td>3</td>\n",
       "    </tr>\n",
       "    <tr>\n",
       "      <th>2006-10-23</th>\n",
       "      <td>36</td>\n",
       "    </tr>\n",
       "    <tr>\n",
       "      <th>2006-10-24</th>\n",
       "      <td>43</td>\n",
       "    </tr>\n",
       "    <tr>\n",
       "      <th>2006-10-25</th>\n",
       "      <td>30</td>\n",
       "    </tr>\n",
       "    <tr>\n",
       "      <th>2006-10-26</th>\n",
       "      <td>40</td>\n",
       "    </tr>\n",
       "  </tbody>\n",
       "</table>\n",
       "</div>"
      ],
      "text/plain": [
       "            Title\n",
       "Date             \n",
       "2006-10-20      3\n",
       "2006-10-23     36\n",
       "2006-10-24     43\n",
       "2006-10-25     30\n",
       "2006-10-26     40"
      ]
     },
     "execution_count": 77,
     "metadata": {},
     "output_type": "execute_result"
    }
   ],
   "source": [
    "#(headlines_vector[347])\n",
    "news_group.head()"
   ]
  },
  {
   "cell_type": "code",
   "execution_count": 79,
   "metadata": {},
   "outputs": [
    {
     "data": {
      "text/plain": [
       "(1788, 1)"
      ]
     },
     "execution_count": 79,
     "metadata": {},
     "output_type": "execute_result"
    }
   ],
   "source": [
    "news_group.shape"
   ]
  },
  {
   "cell_type": "code",
   "execution_count": 83,
   "metadata": {
    "scrolled": true
   },
   "outputs": [
    {
     "data": {
      "text/html": [
       "<div>\n",
       "<style scoped>\n",
       "    .dataframe tbody tr th:only-of-type {\n",
       "        vertical-align: middle;\n",
       "    }\n",
       "\n",
       "    .dataframe tbody tr th {\n",
       "        vertical-align: top;\n",
       "    }\n",
       "\n",
       "    .dataframe thead th {\n",
       "        text-align: right;\n",
       "    }\n",
       "</style>\n",
       "<table border=\"1\" class=\"dataframe\">\n",
       "  <thead>\n",
       "    <tr style=\"text-align: right;\">\n",
       "      <th></th>\n",
       "      <th>Title</th>\n",
       "    </tr>\n",
       "    <tr>\n",
       "      <th>Date</th>\n",
       "      <th></th>\n",
       "    </tr>\n",
       "  </thead>\n",
       "  <tbody>\n",
       "    <tr>\n",
       "      <th>2006-10-20</th>\n",
       "      <td>3</td>\n",
       "    </tr>\n",
       "    <tr>\n",
       "      <th>2006-12-26</th>\n",
       "      <td>20</td>\n",
       "    </tr>\n",
       "    <tr>\n",
       "      <th>2007-12-26</th>\n",
       "      <td>18</td>\n",
       "    </tr>\n",
       "    <tr>\n",
       "      <th>2008-12-26</th>\n",
       "      <td>23</td>\n",
       "    </tr>\n",
       "    <tr>\n",
       "      <th>2009-12-18</th>\n",
       "      <td>19</td>\n",
       "    </tr>\n",
       "    <tr>\n",
       "      <th>2009-12-22</th>\n",
       "      <td>24</td>\n",
       "    </tr>\n",
       "    <tr>\n",
       "      <th>2009-12-24</th>\n",
       "      <td>22</td>\n",
       "    </tr>\n",
       "  </tbody>\n",
       "</table>\n",
       "</div>"
      ],
      "text/plain": [
       "            Title\n",
       "Date             \n",
       "2006-10-20      3\n",
       "2006-12-26     20\n",
       "2007-12-26     18\n",
       "2008-12-26     23\n",
       "2009-12-18     19\n",
       "2009-12-22     24\n",
       "2009-12-24     22"
      ]
     },
     "execution_count": 83,
     "metadata": {},
     "output_type": "execute_result"
    }
   ],
   "source": [
    "news_group.loc[news_group['Title'] < 25]"
   ]
  },
  {
   "cell_type": "code",
   "execution_count": 157,
   "metadata": {},
   "outputs": [
    {
     "name": "stderr",
     "output_type": "stream",
     "text": [
      "/home/saugat/.local/lib/python3.7/site-packages/ipykernel_launcher.py:19: FutureWarning: arrays to stack must be passed as a \"sequence\" type such as list or tuple. Support for non-sequence iterables such as generators is deprecated as of NumPy 1.16 and will raise an error in the future.\n"
     ]
    }
   ],
   "source": [
    "#Try\n",
    "daily_num_news = 25\n",
    "embed_dim = 300\n",
    "\n",
    "headlines_vector_padded = []\n",
    "#i=0\n",
    "for date in headlines_vector:\n",
    "    #print(np.array(date).shape)\n",
    "    #print(i)\n",
    "    #i = i+1\n",
    "    news_vector_padded = []\n",
    "    if(len(date)) < daily_num_news:\n",
    "        padding_num = daily_num_news - len(date)\n",
    "        news_vector_padded = np.vstack((date, ([np.zeros(embed_dim)] * padding_num)))\n",
    "        #news_vector_padded.append(date + ([np.zeros(300)] * padding_num))\n",
    "        #news_vector_padded.append([np.zeroes(300)] * padding_num)\n",
    "    else:\n",
    "        #news_vector_padded.append(date[:daily_num_news])\n",
    "        news_vector_padded = np.vstack(d for d in date[:daily_num_news])\n",
    "    #print(news_vector_padded)    \n",
    "    headlines_vector_padded.append(news_vector_padded)\n",
    "    #headlines_vector_padded.append(news_vector_padded[np.newaxis, :])\n",
    "    #headlines_vector_padded = np.vstack(news_vector_padded)"
   ]
  },
  {
   "cell_type": "code",
   "execution_count": 160,
   "metadata": {},
   "outputs": [
    {
     "data": {
      "text/plain": [
       "(25, 300)"
      ]
     },
     "execution_count": 160,
     "metadata": {},
     "output_type": "execute_result"
    }
   ],
   "source": [
    "np.array(headlines_vector_padded[1]).shape"
   ]
  },
  {
   "cell_type": "code",
   "execution_count": 161,
   "metadata": {
    "scrolled": true
   },
   "outputs": [
    {
     "data": {
      "text/plain": [
       "array([[-0.13567515,  0.2628863 ,  0.1944786 , ..., -0.14638028,\n",
       "         0.19626315,  0.23674856],\n",
       "       [-0.7025201 ,  0.32160696,  0.15189333, ..., -0.20395498,\n",
       "         0.16223966, -0.31123665],\n",
       "       [-0.05533125,  0.22471303, -0.22598514, ..., -0.13654289,\n",
       "         0.194108  ,  0.09083587],\n",
       "       ...,\n",
       "       [-0.5621803 ,  0.3642314 ,  0.02979171, ..., -0.14498343,\n",
       "         0.16493244,  0.12152786],\n",
       "       [ 0.037502  ,  0.12575525, -0.10482925, ..., -0.23934749,\n",
       "         0.15329999,  0.13415374],\n",
       "       [-0.13152575,  0.26045835,  0.00208455, ...,  0.03002288,\n",
       "        -0.04087337, -0.17026688]], dtype=float32)"
      ]
     },
     "execution_count": 161,
     "metadata": {},
     "output_type": "execute_result"
    }
   ],
   "source": [
    "headlines_vector_padded[0]"
   ]
  },
  {
   "cell_type": "code",
   "execution_count": 162,
   "metadata": {},
   "outputs": [
    {
     "data": {
      "text/plain": [
       "1782"
      ]
     },
     "execution_count": 162,
     "metadata": {},
     "output_type": "execute_result"
    }
   ],
   "source": [
    "len(headlines_vector_padded)"
   ]
  },
  {
   "cell_type": "code",
   "execution_count": 163,
   "metadata": {},
   "outputs": [
    {
     "data": {
      "text/plain": [
       "1782"
      ]
     },
     "execution_count": 163,
     "metadata": {},
     "output_type": "execute_result"
    }
   ],
   "source": [
    "len(move)"
   ]
  },
  {
   "cell_type": "code",
   "execution_count": 164,
   "metadata": {},
   "outputs": [
    {
     "data": {
      "text/plain": [
       "1782"
      ]
     },
     "execution_count": 164,
     "metadata": {},
     "output_type": "execute_result"
    }
   ],
   "source": [
    "len(past)"
   ]
  },
  {
   "cell_type": "code",
   "execution_count": 165,
   "metadata": {},
   "outputs": [
    {
     "name": "stdout",
     "output_type": "stream",
     "text": [
      "1425\n",
      "178\n",
      "178\n"
     ]
    }
   ],
   "source": [
    "# split into train, validation and test sets\n",
    "train_size = int(len(move) * 0.8)\n",
    "print(train_size)\n",
    "val_size = int(len(move) * 0.1)\n",
    "print(val_size)\n",
    "test_size = int(len(move) * 0.1)\n",
    "print(test_size)"
   ]
  },
  {
   "cell_type": "code",
   "execution_count": 166,
   "metadata": {},
   "outputs": [],
   "source": [
    "# News Data\n",
    "x_train_headlines = headlines_vector_padded[:train_size]\n",
    "x_val_headlines = headlines_vector_padded[train_size:(train_size+val_size)]\n",
    "x_test_headlines = headlines_vector_padded[(train_size+val_size):len(headlines_vector_padded)]\n",
    "\n",
    "# Technical Data\n",
    "x_train_past = past[:train_size]\n",
    "x_val_past = past[train_size:(train_size+val_size)]\n",
    "x_test_past = past[(train_size+val_size):len(past)]\n",
    "\n",
    "# Output\n",
    "y_train_move = move[:train_size]\n",
    "y_val_move = move[train_size:(train_size+val_size)]\n",
    "y_test_move = move[(train_size+val_size):len(move)]"
   ]
  },
  {
   "cell_type": "code",
   "execution_count": 168,
   "metadata": {},
   "outputs": [
    {
     "data": {
      "text/plain": [
       "(179, 25, 300)"
      ]
     },
     "execution_count": 168,
     "metadata": {},
     "output_type": "execute_result"
    }
   ],
   "source": [
    "np.array(x_test_headlines).shape"
   ]
  },
  {
   "cell_type": "code",
   "execution_count": 169,
   "metadata": {},
   "outputs": [],
   "source": [
    "from sklearn.preprocessing import MinMaxScaler\n",
    "scaler_past = MinMaxScaler()"
   ]
  },
  {
   "cell_type": "code",
   "execution_count": 170,
   "metadata": {},
   "outputs": [],
   "source": [
    "# Scale the train dataset (Fit and transform)\n",
    "x_train_past_norm = scaler_past.fit_transform(x_train_past)"
   ]
  },
  {
   "cell_type": "code",
   "execution_count": 171,
   "metadata": {},
   "outputs": [],
   "source": [
    "# Scale val/test dataset(transform only)\n",
    "x_test_past_norm = scaler_past.transform(x_test_past)\n",
    "x_val_past_norm = scaler_past.transform(x_val_past)"
   ]
  },
  {
   "cell_type": "code",
   "execution_count": 172,
   "metadata": {},
   "outputs": [
    {
     "name": "stdout",
     "output_type": "stream",
     "text": [
      "(1425, 5, 1)\n",
      "(178, 5, 1)\n",
      "(179, 5, 1)\n"
     ]
    }
   ],
   "source": [
    "# Reshape historical data for LSTM\n",
    "x_train_past_norm = np.reshape(x_train_past_norm, (x_train_past_norm.shape[0], input_time_step, 1))\n",
    "x_val_past_norm = np.reshape(x_val_past_norm, (x_val_past_norm.shape[0], input_time_step, 1))\n",
    "x_test_past_norm = np.reshape(x_test_past_norm, (x_test_past_norm.shape[0], input_time_step, 1))\n",
    "print(x_train_past_norm.shape)\n",
    "print(x_val_past_norm.shape)\n",
    "print(x_test_past_norm.shape)"
   ]
  },
  {
   "cell_type": "code",
   "execution_count": 173,
   "metadata": {},
   "outputs": [],
   "source": [
    "x_train_headlines = np.array(x_train_headlines)\n",
    "x_val_headlines = np.array(x_val_headlines)\n",
    "x_test_headlines = np.array(x_test_headlines)"
   ]
  },
  {
   "cell_type": "code",
   "execution_count": 174,
   "metadata": {
    "scrolled": true
   },
   "outputs": [
    {
     "data": {
      "text/plain": [
       "(1425, 25, 300)"
      ]
     },
     "execution_count": 174,
     "metadata": {},
     "output_type": "execute_result"
    }
   ],
   "source": [
    "x_train_headlines.shape"
   ]
  },
  {
   "cell_type": "code",
   "execution_count": 175,
   "metadata": {},
   "outputs": [],
   "source": [
    "#y_train_move"
   ]
  },
  {
   "cell_type": "code",
   "execution_count": 176,
   "metadata": {},
   "outputs": [],
   "source": [
    "from keras.models import Model, Sequential\n",
    "from keras.layers import Dense, Input, Activation, multiply, Lambda, Convolution1D, Conv2D, MaxPooling1D, MaxPooling2D, GRU, Bidirectional,TimeDistributed, Flatten, concatenate, Dropout, Reshape\n",
    "from keras.layers.recurrent import LSTM\n",
    "from keras.callbacks import Callback, ModelCheckpoint, EarlyStopping, ReduceLROnPlateau\n",
    "from keras.optimizers import Adam, SGD, RMSprop\n",
    "from keras import regularizers, initializers\n",
    "from keras import backend as K\n",
    "from keras.utils import plot_model\n",
    "#from tcn import TCN\n",
    "from keract import get_activations"
   ]
  },
  {
   "cell_type": "code",
   "execution_count": 194,
   "metadata": {},
   "outputs": [],
   "source": [
    "rnn_output_size = 128\n",
    "hidden_dims = 128\n",
    "n_grams = [3,4,5]\n",
    "filters = 64\n",
    "num_dense_layers = 3\n",
    "\n",
    "def news_branch():\n",
    "    # Input for one day : max article per day, dim_vec=embed_dim\n",
    "    input1 = Input(shape=(daily_num_news, embed_dim))\n",
    "    \n",
    "    #reshape_input = Reshape((daily_num_news, embed_dim, 1))(input1)\n",
    "    \n",
    "    merged_layer = []\n",
    "    \n",
    "    for h in n_grams:\n",
    "        conv_layer = Convolution1D(filters, h, activation='relu',padding = 'valid')(input1)\n",
    "        pool_layer = MaxPooling1D(pool_size=(daily_num_news-h+1))(conv_layer)\n",
    "        merged_layer.append(pool_layer)\n",
    "    \n",
    "    concat_layer = concatenate(merged_layer)\n",
    "    flatten_layer = Flatten()(concat_layer)\n",
    "    in_ = flatten_layer\n",
    "    prev_units = filters * len(n_grams)\n",
    "    \n",
    "    for _ in range(num_dense_layers - 1):\n",
    "        prev_units //= 2\n",
    "        dense_layer = Dense(prev_units,\n",
    "                            activation='relu', \n",
    "                            kernel_regularizer = regularizers.l2(0.01))(in_)\n",
    "        \n",
    "        drop_layer = Dropout(0.5)(dense_layer)\n",
    "        in_ = drop_layer\n",
    "   \n",
    "    model = Model(inputs = input1, outputs = in_)\n",
    "    return model"
   ]
  },
  {
   "cell_type": "code",
   "execution_count": 195,
   "metadata": {},
   "outputs": [],
   "source": [
    "def technical_branch():\n",
    "    \n",
    "    model = Sequential()\n",
    "    \n",
    "    model.add(LSTM(100, input_shape=(None, 1)))\n",
    "    model.add(Dense(48, activation='relu'))\n",
    "    \n",
    "    return model"
   ]
  },
  {
   "cell_type": "code",
   "execution_count": 196,
   "metadata": {
    "scrolled": true
   },
   "outputs": [],
   "source": [
    "# create the news and technical branch\n",
    "news_model = news_branch()\n",
    "technical_model = technical_branch()\n",
    "\n",
    "# create the input to our final set of layers as the *output* of both news and technical layer\n",
    "combinedInput = concatenate([news_model.output, technical_model.output])\n",
    "\n",
    "# our final FC layer head will have two dense layers, the final one being our regression head\n",
    "x = Dense(32, activation=\"relu\")(combinedInput) #model.add(Dense(hidden_dims//2, kernel_initializer=weights))\n",
    "# Dropout \n",
    "x = Dropout(0.5)(x)\n",
    "x = Dense(1, activation=\"sigmoid\")(x)\n",
    "\n",
    "# our final model will accept tecnical/historical data on the technical branch input and \n",
    "# news events(embeddings) on news branch input, outputting a single value (the predicted opening price change)\n",
    "model = Model(inputs=[news_model.input, technical_model.input], outputs=x)\n",
    "#model.summary()\n",
    "# plot graph\n",
    "#plot_model(model,show_shapes=True,to_file='combined_model.png')\n",
    "\n",
    "# Compiling the model\n",
    "learning_rate = 0.01\n",
    "model.compile(loss='binary_crossentropy',\n",
    "              optimizer=Adam(lr=learning_rate,clipvalue=1.0),\n",
    "              metrics=['accuracy'])"
   ]
  },
  {
   "cell_type": "code",
   "execution_count": 197,
   "metadata": {},
   "outputs": [
    {
     "data": {
      "image/png": "[encoded data removed]",
      "text/plain": [
       "<IPython.core.display.Image object>"
      ]
     },
     "execution_count": 197,
     "metadata": {},
     "output_type": "execute_result"
    }
   ],
   "source": [
    "plot_model(model,show_shapes=True)"
   ]
  },
  {
   "cell_type": "code",
   "execution_count": null,
   "metadata": {
    "scrolled": true
   },
   "outputs": [
    {
     "name": "stdout",
     "output_type": "stream",
     "text": [
      "Train on 1425 samples, validate on 178 samples\n",
      "Epoch 1/100\n",
      "1425/1425 [==============================] - 3s 2ms/step - loss: 1.1014 - accuracy: 0.5123 - val_loss: 0.7394 - val_accuracy: 0.5730\n",
      "Epoch 2/100\n",
      "1425/1425 [==============================] - 1s 606us/step - loss: 0.7170 - accuracy: 0.5151 - val_loss: 0.6909 - val_accuracy: 0.5730\n",
      "Epoch 3/100\n",
      "1425/1425 [==============================] - 1s 603us/step - loss: 0.6972 - accuracy: 0.5186 - val_loss: 0.6903 - val_accuracy: 0.5730\n",
      "Epoch 4/100\n",
      "1425/1425 [==============================] - 1s 619us/step - loss: 0.6934 - accuracy: 0.5186 - val_loss: 0.6903 - val_accuracy: 0.5730\n",
      "Epoch 5/100\n",
      "1425/1425 [==============================] - 1s 609us/step - loss: 0.6928 - accuracy: 0.5186 - val_loss: 0.6872 - val_accuracy: 0.5730\n",
      "Epoch 6/100\n",
      "1425/1425 [==============================] - 1s 610us/step - loss: 0.6928 - accuracy: 0.5186 - val_loss: 0.6884 - val_accuracy: 0.5730\n",
      "Epoch 7/100\n",
      "1425/1425 [==============================] - 1s 636us/step - loss: 0.6930 - accuracy: 0.5186 - val_loss: 0.6893 - val_accuracy: 0.5730\n",
      "Epoch 8/100\n",
      "1425/1425 [==============================] - 1s 634us/step - loss: 0.6927 - accuracy: 0.5186 - val_loss: 0.6875 - val_accuracy: 0.5730\n",
      "Epoch 9/100\n",
      "1425/1425 [==============================] - 1s 621us/step - loss: 0.6927 - accuracy: 0.5186 - val_loss: 0.6879 - val_accuracy: 0.5730\n",
      "Epoch 10/100\n",
      "1425/1425 [==============================] - 1s 626us/step - loss: 0.6926 - accuracy: 0.5186 - val_loss: 0.6889 - val_accuracy: 0.5730\n",
      "Epoch 11/100\n",
      "1425/1425 [==============================] - 1s 692us/step - loss: 0.6928 - accuracy: 0.5186 - val_loss: 0.6884 - val_accuracy: 0.5730\n",
      "Epoch 12/100\n",
      "1425/1425 [==============================] - 1s 615us/step - loss: 0.6927 - accuracy: 0.5186 - val_loss: 0.6886 - val_accuracy: 0.5730\n",
      "Epoch 13/100\n",
      "1425/1425 [==============================] - 1s 656us/step - loss: 0.6927 - accuracy: 0.5186 - val_loss: 0.6881 - val_accuracy: 0.5730\n",
      "Epoch 14/100\n",
      "1425/1425 [==============================] - 1s 647us/step - loss: 0.6928 - accuracy: 0.5186 - val_loss: 0.6877 - val_accuracy: 0.5730\n",
      "Epoch 15/100\n",
      "1425/1425 [==============================] - 1s 630us/step - loss: 0.6926 - accuracy: 0.5186 - val_loss: 0.6895 - val_accuracy: 0.5730\n",
      "Epoch 16/100\n",
      "1425/1425 [==============================] - 1s 639us/step - loss: 0.6928 - accuracy: 0.5186 - val_loss: 0.6879 - val_accuracy: 0.5730\n",
      "Epoch 17/100\n",
      "1425/1425 [==============================] - 1s 687us/step - loss: 0.6926 - accuracy: 0.5186 - val_loss: 0.6881 - val_accuracy: 0.5730\n",
      "Epoch 18/100\n",
      "1425/1425 [==============================] - 1s 619us/step - loss: 0.6931 - accuracy: 0.5186 - val_loss: 0.6881 - val_accuracy: 0.5730\n",
      "Epoch 19/100\n",
      "1425/1425 [==============================] - 1s 703us/step - loss: 0.6926 - accuracy: 0.5186 - val_loss: 0.6872 - val_accuracy: 0.5730\n",
      "Epoch 20/100\n",
      "1425/1425 [==============================] - 1s 624us/step - loss: 0.6929 - accuracy: 0.5186 - val_loss: 0.6883 - val_accuracy: 0.5730\n",
      "Epoch 21/100\n",
      "1425/1425 [==============================] - 1s 654us/step - loss: 0.6927 - accuracy: 0.5186 - val_loss: 0.6883 - val_accuracy: 0.5730\n",
      "Epoch 22/100\n",
      "1425/1425 [==============================] - 1s 620us/step - loss: 0.6926 - accuracy: 0.5186 - val_loss: 0.6882 - val_accuracy: 0.5730\n",
      "Epoch 23/100\n",
      "1425/1425 [==============================] - 1s 642us/step - loss: 0.6926 - accuracy: 0.5186 - val_loss: 0.6887 - val_accuracy: 0.5730\n",
      "Epoch 24/100\n",
      "1425/1425 [==============================] - 1s 610us/step - loss: 0.6926 - accuracy: 0.5186 - val_loss: 0.6886 - val_accuracy: 0.5730\n",
      "Epoch 25/100\n",
      "1425/1425 [==============================] - 1s 703us/step - loss: 0.6928 - accuracy: 0.5186 - val_loss: 0.6891 - val_accuracy: 0.5730\n",
      "Epoch 26/100\n",
      "1425/1425 [==============================] - 1s 686us/step - loss: 0.6928 - accuracy: 0.5186 - val_loss: 0.6888 - val_accuracy: 0.5730\n",
      "Epoch 27/100\n",
      "1425/1425 [==============================] - 1s 585us/step - loss: 0.6927 - accuracy: 0.5186 - val_loss: 0.6885 - val_accuracy: 0.5730\n",
      "Epoch 28/100\n",
      "1425/1425 [==============================] - 1s 631us/step - loss: 0.6930 - accuracy: 0.5186 - val_loss: 0.6882 - val_accuracy: 0.5730\n",
      "Epoch 29/100\n",
      "1425/1425 [==============================] - 1s 682us/step - loss: 0.6927 - accuracy: 0.5186 - val_loss: 0.6883 - val_accuracy: 0.5730\n",
      "Epoch 30/100\n",
      "1425/1425 [==============================] - 1s 649us/step - loss: 0.6928 - accuracy: 0.5186 - val_loss: 0.6885 - val_accuracy: 0.5730\n",
      "Epoch 31/100\n",
      " 608/1425 [===========>..................] - ETA: 0s - loss: 0.6938 - accuracy: 0.5033"
     ]
    }
   ],
   "source": [
    "callbacks = [EarlyStopping(monitor='val_loss', patience=30, verbose=1, mode='auto'),\n",
    "             ModelCheckpoint(filepath='han_combined.h5', monitor='val_loss', save_best_only=True),\n",
    "            ReduceLROnPlateau(monitor='val_loss', factor=0.2, verbose=1, patience=10)]\n",
    "\n",
    "# history = model.fit(x_train_headlines,\n",
    "#                     y_train_move,\n",
    "#                     batch_size=32,\n",
    "#                     epochs=100,\n",
    "#                     validation_data=(x_val_headlines, y_val_move),\n",
    "#                     verbose=True)\n",
    "\n",
    "\n",
    "history = model.fit([x_train_headlines, x_train_past_norm],\n",
    "                    y_train_move,\n",
    "                    batch_size=32,\n",
    "                    epochs=100,\n",
    "                    validation_data=([x_val_headlines, x_val_past_norm], y_val_move),\n",
    "                    verbose=True)\n",
    "#callbacks = callbacks"
   ]
  },
  {
   "cell_type": "code",
   "execution_count": 182,
   "metadata": {},
   "outputs": [
    {
     "data": {
      "image/png": "[encoded data removed]",
      "text/plain": [
       "<Figure size 432x288 with 1 Axes>"
      ]
     },
     "metadata": {
      "needs_background": "light"
     },
     "output_type": "display_data"
    }
   ],
   "source": [
    "# summarize history for loss\n",
    "plt.plot(history.history['loss'])\n",
    "plt.plot(history.history['val_loss'])\n",
    "plt.title('model loss')\n",
    "plt.ylabel('loss')\n",
    "plt.xlabel('epoch')\n",
    "plt.legend(['train','validation'], loc='upper left')\n",
    "plt.show()"
   ]
  },
  {
   "cell_type": "code",
   "execution_count": 113,
   "metadata": {},
   "outputs": [
    {
     "name": "stdout",
     "output_type": "stream",
     "text": [
      "179/179 [==============================] - 0s 609us/step\n"
     ]
    }
   ],
   "source": [
    "predictions = model.predict([x_test_headlines, x_test_diff_norm], verbose = True)"
   ]
  },
  {
   "cell_type": "code",
   "execution_count": 183,
   "metadata": {},
   "outputs": [],
   "source": [
    "#plot_model(attention_model,show_shapes=True,to_file='attention_model.png')"
   ]
  },
  {
   "cell_type": "code",
   "execution_count": 175,
   "metadata": {},
   "outputs": [],
   "source": [
    "from sklearn.metrics import median_absolute_error as mae\n",
    "from sklearn.metrics import mean_squared_error as mse\n",
    "from sklearn.metrics import accuracy_score as acc"
   ]
  },
  {
   "cell_type": "code",
   "execution_count": 176,
   "metadata": {},
   "outputs": [
    {
     "data": {
      "text/plain": [
       "0.004392879282451214"
      ]
     },
     "execution_count": 176,
     "metadata": {},
     "output_type": "execute_result"
    }
   ],
   "source": [
    "# Compare test values and predictions\n",
    "mse(y_test_price_norm, predictions)"
   ]
  },
  {
   "cell_type": "code",
   "execution_count": 177,
   "metadata": {},
   "outputs": [],
   "source": [
    "unnorm_predictions = scaler_price.inverse_transform(predictions)\n",
    "unnorm_y_test = scaler_price.inverse_transform(y_test_price_norm.reshape(-1,1))"
   ]
  },
  {
   "cell_type": "code",
   "execution_count": 178,
   "metadata": {},
   "outputs": [
    {
     "data": {
      "image/png": "[encoded data removed]",
      "text/plain": [
       "<Figure size 864x288 with 1 Axes>"
      ]
     },
     "metadata": {
      "needs_background": "light"
     },
     "output_type": "display_data"
    }
   ],
   "source": [
    "plt.figure(figsize=(12,4))\n",
    "plt.plot(unnorm_predictions)\n",
    "plt.plot(unnorm_y_test)\n",
    "plt.title(\"Predicted (blue) vs Actual (green) Opening Price Changes\")\n",
    "plt.xlabel(\"Testing instances\")\n",
    "plt.ylabel(\"Change in Opening Price\")\n",
    "plt.show()"
   ]
  },
  {
   "cell_type": "code",
   "execution_count": 179,
   "metadata": {},
   "outputs": [],
   "source": [
    "# Create lists to measure if opening price increased or decreased\n",
    "direction_pred = []\n",
    "for pred in unnorm_predictions:\n",
    "    if pred >= 0:\n",
    "        direction_pred.append(1)\n",
    "    else:\n",
    "        direction_pred.append(0)\n",
    "direction_test = []\n",
    "for value in unnorm_y_test:\n",
    "    if value >= 0:\n",
    "        direction_test.append(1)\n",
    "    else:\n",
    "        direction_test.append(0)"
   ]
  },
  {
   "cell_type": "code",
   "execution_count": 180,
   "metadata": {},
   "outputs": [
    {
     "name": "stdout",
     "output_type": "stream",
     "text": [
      "Predicted values matched the actual direction 58.099999999999994% of the time.\n"
     ]
    }
   ],
   "source": [
    "# Calculate if the predicted direction matched the actual direction\n",
    "direction = acc(direction_test, direction_pred)\n",
    "direction = round(direction,4)*100\n",
    "print(\"Predicted values matched the actual direction {}% of the time.\".format(direction))"
   ]
  },
  {
   "cell_type": "code",
   "execution_count": 181,
   "metadata": {},
   "outputs": [
    {
     "data": {
      "text/plain": [
       "7.682060538574433"
      ]
     },
     "execution_count": 181,
     "metadata": {},
     "output_type": "execute_result"
    }
   ],
   "source": [
    "# Calculate the median absolute error for the predictions\n",
    "mae(unnorm_y_test, unnorm_predictions)"
   ]
  },
  {
   "cell_type": "code",
   "execution_count": 182,
   "metadata": {},
   "outputs": [
    {
     "data": {
      "text/plain": [
       "162.80035648390208"
      ]
     },
     "execution_count": 182,
     "metadata": {},
     "output_type": "execute_result"
    }
   ],
   "source": [
    "mse(unnorm_y_test, unnorm_predictions)"
   ]
  },
  {
   "cell_type": "code",
   "execution_count": null,
   "metadata": {},
   "outputs": [],
   "source": []
  }
 ],
 "metadata": {
  "kernelspec": {
   "display_name": "research",
   "language": "python",
   "name": "research"
  },
  "language_info": {
   "codemirror_mode": {
    "name": "ipython",
    "version": 3
   },
   "file_extension": ".py",
   "mimetype": "text/x-python",
   "name": "python",
   "nbconvert_exporter": "python",
   "pygments_lexer": "ipython3",
   "version": "3.7.4"
  }
 },
 "nbformat": 4,
 "nbformat_minor": 2
}
